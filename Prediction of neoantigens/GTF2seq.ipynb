{
 "cells": [
  {
   "cell_type": "code",
   "execution_count": 2,
   "id": "2e0cdf79-3190-474b-84cf-49c3f97037ce",
   "metadata": {},
   "outputs": [],
   "source": [
    "from Bio.Seq import Seq\n",
    "from Bio import SeqIO\n",
    "from functools import reduce\n",
    "import os\n",
    "from multiprocessing.dummy import Pool as MyPool\n",
    "from time import sleep, ctime\n",
    "import pandas as pd\n",
    "import numpy as np\n",
    "from collections import Counter\n",
    "import re"
   ]
  },
  {
   "cell_type": "markdown",
   "id": "10fcc56c-edcd-46ff-9796-10bb2e245342",
   "metadata": {
    "jp-MarkdownHeadingCollapsed": true
   },
   "source": [
    "### 函数定义"
   ]
  },
  {
   "cell_type": "code",
   "execution_count": 2,
   "id": "1efd3fbe-ed5f-4025-ac46-d71186c2833c",
   "metadata": {},
   "outputs": [],
   "source": [
    "def GetSeq(hg38_dict, chr, start):\n",
    "    DNA = hg38_dict[chr][int(start) - 1]\n",
    "    #\tDNA = ''.join([eachnt for eachnt in hg38_dict[chr][int(start)-1:int(end)]])\n",
    "    return DNA\n",
    "\n",
    "\n",
    "def Translate(DNA, stand):\n",
    "    \"\"\"\n",
    "\t功能： DNA翻译为蛋白质氨基酸序列\n",
    "\t输入： DNA序列，strand方向\n",
    "\t输出： 蛋白质氨基酸序列\n",
    "\t注意： 输入的DNA序列必须为完整的，且必须包含起始子ATG\n",
    "\t\"\"\"\n",
    "    DNA = Seq(DNA.upper())\n",
    "    if stand == '-':\n",
    "        DNA = DNA.reverse_complement()\n",
    "    CDS = DNA[DNA.find('ATG'):]\n",
    "    if len(CDS) == 0:\n",
    "        return 'No seq'\n",
    "    elif len(CDS) == 1:\n",
    "        return 'No Promoter'\n",
    "    else:\n",
    "        AAseq = CDS.translate(to_stop=True)\n",
    "        if len(AAseq) * 3 == len(CDS):\n",
    "            return 'No end'\n",
    "        else:\n",
    "            return ''.join([each for each in AAseq])\n",
    "\n",
    "\n",
    "def Cal_pos(list1, list2, fuhao='-'):\n",
    "    \"\"\"\n",
    "\t根据链方向合并或计算两个位置列表的差集。\n",
    "\t参数：list1，位置列表1；list2，位置列表2；fuhao，链方向。\n",
    "\t返回：根据链方向计算得到的新位置列表。\n",
    "\t注意：list1和list2的格式为[(start1,end1),(start2,end2),...]，两个位置列表表示 DNA 序列在染色体上的位置区间\n",
    "\t\"\"\"\n",
    "    if fuhao == '+':\n",
    "        for eachlist2 in list2:\n",
    "            if int(eachlist2[0]) > int(list1[0][0]) and int(eachlist2[1]) < int(list1[-1][1]):\n",
    "                list1 = list1 + [eachlist2]\n",
    "        return list1\n",
    "\n",
    "    elif fuhao == '-':\n",
    "        list1 = reduce(lambda x, y: x + y,\n",
    "                       [list(range(min(int(each[0]), int(each[1])), max(int(each[0]), int(each[1])) + 1)) for each in\n",
    "                        list1])\n",
    "        list2 = reduce(lambda x, y: x + y,\n",
    "                       [list(range(min(int(each[0]), int(each[1])), max(int(each[0]), int(each[1])) + 1)) for each in\n",
    "                        list2])\n",
    "        return sorted(list(set([each for each in list1 if each not in list2])))\n",
    "    else:\n",
    "        return sorted(\n",
    "            list(set(reduce(lambda x, y: x + y, [list(range(int(each[0]), int(each[1]) + 1)) for each in list1]))))\n",
    "\n",
    "\n",
    "\n",
    "def qie(seq, n=9):\n",
    "    \"\"\"\n",
    "\t功能：将序列按照指定长度切割为不重叠的子序列。\n",
    "\t输入：seq，序列；n，切割的长度，默认为9。\n",
    "\t输出：长度为n的不重叠子序列的集合。\n",
    "\t示例：qie('ABCDEF',3)  \n",
    "\t返回：{'ABC','BCD', 'CDE','DEF'}\n",
    "\t注意：n必须大于0，否则返回空集合。\n",
    "\t\"\"\"\n",
    "    if len(seq) >= n:\n",
    "        return set([seq[each:each + n] for each in range(len(seq) - n + 1)])\n",
    "    else:\n",
    "        return set([])\n",
    "\n",
    "\n",
    "def cutseq(seq1, seq2, AS_type):\n",
    "    if seq2 == 'NotFound':\n",
    "        return []\n",
    "    if (AS_type in ['SE', 'A5SS', 'A3SS', 'MXE']):\n",
    "        return list(qie(seq1) - qie(seq2))\n",
    "    else:\n",
    "        return list(qie(seq2) - qie(seq1))\n",
    "\n",
    "def Merge(Max_Gene_dict, row_data):\n",
    "\n",
    "    # 获取基因的转录本ID\n",
    "    gene = row_data['geneSymbol']\n",
    "    Rid = Max_Gene_dict[gene]['Rid']\n",
    "    # 剪接类型\n",
    "    AS_type = row_data['splicing_type']\n",
    "    \n",
    "    # 1.处理可变剪接事件类型为SE的情况\n",
    "    if AS_type in ['SE', 'A5SS', 'A3SS']:\n",
    "        if AS_type == 'SE' :\n",
    "            # 获取待删除外显子的位置列表\n",
    "            drop_pos = [(int(x), int(y)) for x, y in [row_data[['exonStart_0base', 'exonEnd']].tolist()]]\n",
    "        elif AS_type == 'A5SS':\n",
    "            # 获取待删除外显子区段的位置列表\n",
    "            drop_pos = [(int(x), int(y)) for x, y in [row_data[['shortEE', 'longExonEnd']].tolist()]]\n",
    "        elif AS_type == 'A3SS':\n",
    "            # 获取待删除外显子区段的位置列表\n",
    "            drop_pos = [(int(x), int(y)) for x, y in [row_data[['longExonStart_0base', 'shortES']].tolist()]]            \n",
    "       \n",
    "        # 获取参考外显子的位置列表\n",
    "        ref_pos = [Max_Gene_dict[gene][eachexon][1:] for eachexon in Max_Gene_dict[gene]['CDS'][1:]]\n",
    "        # 获取链方向\n",
    "        stand = Max_Gene_dict[gene]['CDS'][0]\n",
    "        # 获取染色体名称\n",
    "        chr = Max_Gene_dict[gene][Max_Gene_dict[gene]['CDS'][1]][0]\n",
    "        # 计算参考DNA序列\n",
    "        Ref_dna = ''.join([GetSeq(hg38_dict, chr, eachpos) for eachpos in Cal_pos(ref_pos, [[1, 2]], 'xx')])\n",
    "        # 计算突变DNA序列\n",
    "        Mutation_dna = ''.join([GetSeq(hg38_dict, chr, eachpos) for eachpos in Cal_pos(ref_pos, drop_pos, '-')])\n",
    "\n",
    "        # 确保 DNA 序列长度为三的倍数，或者添加一个终止密码子\n",
    "        #if len(Ref_dna) % 3 != 0:\n",
    "            #Ref_dna = Ref_dna[:-(len(Ref_dna) % 3)]  # 截断为三的倍数长度\n",
    "         #   Ref_dna += 'N' * (3 - len(Ref_dna) % 3)  # 或者：添加终止密码子\n",
    "        #if len(Mutation_dna) % 3 != 0:\n",
    "            #Mutation_dna = Mutation_dna[:-(len(Mutation_dna) % 3)]  # 截断为三的倍数长度\n",
    "         #   Mutation_dna += 'N' * (3 - len(Mutation_dna) % 3)  # 或者：添加终止密码子\n",
    "        \n",
    "        # 翻译参考DNA序列为参考蛋白质序列\n",
    "        Ref_aa = Translate(Ref_dna, stand)\n",
    "        # 翻译突变DNA序列为突变蛋白质序列\n",
    "        Mutation_aa = Translate(Mutation_dna, stand)\n",
    "\n",
    "        return Rid, Ref_dna, Mutation_dna, Ref_aa, Mutation_aa\n",
    "        \n",
    "    # 2.对于内含子滞留（RI）的可变剪接事件类型：\n",
    "    elif AS_type == 'RI':\n",
    "        # 获取待添加内含子的位置列表\n",
    "        add_pos = [(int(x), int(y)) for x, y in [row_data[['riExonStart_0base', 'riExonEnd']].tolist()]]\n",
    "        # 获取参考外显子的位置列表\n",
    "        ref_pos = [Max_Gene_dict[gene][eachexon][1:] for eachexon in Max_Gene_dict[gene]['CDS'][1:]]\n",
    "        # 获取链方向\n",
    "        stand = Max_Gene_dict[gene]['CDS'][0]\n",
    "        # 获取染色体名称\n",
    "        chr = Max_Gene_dict[gene][Max_Gene_dict[gene]['CDS'][1]][0]\n",
    "        # 计算参考DNA序列，包括待添加内含子的位置\n",
    "        Ref_dna = ''.join([GetSeq(hg38_dict, chr, eachpos) for eachpos in Cal_pos(ref_pos, [[1, 2]], 'xx')])\n",
    "        # 计算突变DNA序列，去除待添加内含子的位置\n",
    "        Mutation_dna = ''.join([GetSeq(hg38_dict, chr, eachpos) for eachpos in Cal_pos(Cal_pos(ref_pos, add_pos, '+'), [], 'x')])\n",
    "\n",
    "        # 确保 DNA 序列长度为三的倍数，或者添加一个终止密码子\n",
    "        #if len(Ref_dna) % 3 != 0:\n",
    "            #Ref_dna = Ref_dna[:-(len(Ref_dna) % 3)]  # 截断为三的倍数长度\n",
    "         #   Ref_dna += 'N' * (3 - len(Ref_dna) % 3)  # 或者：添加终止密码子\n",
    "        #if len(Mutation_dna) % 3 != 0:\n",
    "            #Mutation_dna = Mutation_dna[:-(len(Mutation_dna) % 3)]  # 截断为三的倍数长度\n",
    "         #   Mutation_dna += 'N' * (3 - len(Mutation_dna) % 3)  # 或者：添加终止密码子\n",
    "        \n",
    "        # 根据链方向翻译参考和突变的DNA序列为蛋白质序列\n",
    "        Ref_aa = Translate(Ref_dna, stand)\n",
    "        Mutation_aa = Translate(Mutation_dna, stand)\n",
    "\n",
    "        return Rid, Ref_dna, Mutation_dna, Ref_aa, Mutation_aa\n",
    "\n",
    "    # 3.对于互斥的外显子（MXE）的可变剪接事件类型：\n",
    "    elif AS_type == 'MXE':\n",
    "        # 获取两个互斥外显子的位置列表\n",
    "        alt_pos1 = [(int(x), int(y)) for x, y in [row_data[['1stExonStart_0base', '1stExonEnd']].tolist()]]\n",
    "        alt_pos2 = [(int(x), int(y)) for x, y in [row_data[['2ndExonStart_0base', '2ndExonEnd']].tolist()]]\n",
    "        \n",
    "        # 获取参考外显子的位置列表\n",
    "        ref_pos = [Max_Gene_dict[gene][eachexon][1:] for eachexon in Max_Gene_dict[gene]['CDS'][1:]]\n",
    "        # 获取链方向、染色体名称\n",
    "        stand = Max_Gene_dict[gene]['CDS'][0]\n",
    "        chr = Max_Gene_dict[gene][Max_Gene_dict[gene]['CDS'][1]][0]\n",
    "        # 计算互斥外显子的全集位置\n",
    "        All_dna = Cal_pos(ref_pos, alt_pos1 + alt_pos2, '+')\n",
    "        # 计算两个互斥外显子的突变DNA序列\n",
    "        Mutation1_dna = ''.join([GetSeq(hg38_dict, chr, eachpos) for eachpos in Cal_pos(All_dna, alt_pos1, '-')])\n",
    "        Mutation2_dna = ''.join([GetSeq(hg38_dict, chr, eachpos) for eachpos in Cal_pos(All_dna, alt_pos2, '-')])\n",
    "        \n",
    "        # 确保 DNA 序列长度为三的倍数，或者添加一个终止密码子\n",
    "        #if len(Mutation1_dna) % 3 != 0:\n",
    "            #Mutation1_dna = Mutation1_dna[:-(len(Mutation1_dna) % 3)]  # 截断为三的倍数长度\n",
    "         #   Mutation1_dna += 'N' * (3 - len(Mutation1_dna) % 3)  # 或者：添加终止密码子\n",
    "        #if len(Mutation2_dna) % 3 != 0:\n",
    "            #Mutation2_dna = Mutation2_dna[:-(len(Mutation2_dna) % 3)]  # 截断为三的倍数长度\n",
    "         #   Mutation2_dna += 'N' * (3 - len(Mutation2_dna) % 3)  # 或者：添加终止密码子\n",
    "        \n",
    "        # 根据链方向翻译两个互斥外显子的突变DNA序列为蛋白质序列\n",
    "        Mutation1_aa = Translate(Mutation1_dna, stand)\n",
    "        Mutation2_aa = Translate(Mutation2_dna, stand)\n",
    "        \n",
    "        return Rid, Mutation1_dna, Mutation2_dna, Mutation1_aa, Mutation2_aa\n",
    "  "
   ]
  },
  {
   "cell_type": "markdown",
   "id": "732774bf-8213-45ea-920e-7804b9252546",
   "metadata": {
    "jp-MarkdownHeadingCollapsed": true
   },
   "source": [
    "### 1. 提取序列信息hg38.fa"
   ]
  },
  {
   "cell_type": "code",
   "execution_count": 3,
   "id": "3572e4f6-ad06-4901-863e-f302c28f6201",
   "metadata": {},
   "outputs": [
    {
     "name": "stdout",
     "output_type": "stream",
     "text": [
      "False\n"
     ]
    },
    {
     "data": {
      "text/plain": [
       "Seq('NNNNNNNNNNNNNNNNNNNNNNNNNNNNNNNNNNNNNNNNNNNNNNNNNNNNNN...NNN')"
      ]
     },
     "execution_count": 3,
     "metadata": {},
     "output_type": "execute_result"
    }
   ],
   "source": [
    "# 1. 提取序列信息hg38.fa\n",
    "hg38_dict = {}\n",
    "for seq_record in SeqIO.parse(\"/data3/lishuhan/fasta_gtf/Homo_sapiens.GRCh38.dna.primary_assembly.fa\", \"fasta\"):\n",
    "    hg38_dict[seq_record.id.strip('chr')] = seq_record\n",
    "# 判断染色体5是否为纯N\n",
    "chromosome_5_sequence = hg38_dict['5'].seq\n",
    "is_all_N = all(base == 'N' for base in chromosome_5_sequence)\n",
    "print(is_all_N)\n",
    "# 查看其中一个序列\n",
    "hg38_dict['5'].seq"
   ]
  },
  {
   "cell_type": "code",
   "execution_count": 4,
   "id": "02c1fde2-e591-4573-8da9-4d2d0cf9ccc9",
   "metadata": {},
   "outputs": [
    {
     "name": "stdout",
     "output_type": "stream",
     "text": [
      "非 'N' 的数量: 181265378\n",
      "非 'N' 的比例: 0.9984968402721104\n"
     ]
    }
   ],
   "source": [
    "chromosome_5_sequence = hg38_dict['5'].seq\n",
    "# 统计非 'N' 的数量\n",
    "non_N_count = sum(base != 'N' for base in chromosome_5_sequence)\n",
    "# 计算非 'N' 的比例\n",
    "non_N_ratio = non_N_count / len(chromosome_5_sequence)\n",
    "print(\"非 'N' 的数量:\", non_N_count)\n",
    "print(\"非 'N' 的比例:\", non_N_ratio)"
   ]
  },
  {
   "cell_type": "markdown",
   "id": "3ae20409-d9fd-4619-b1e7-7150fcb56cf3",
   "metadata": {},
   "source": [
    "### 2.提取注释信息hg38.gtf"
   ]
  },
  {
   "cell_type": "code",
   "execution_count": 5,
   "id": "b98f1fc8-c85a-46bf-9d7c-99a45943f3da",
   "metadata": {},
   "outputs": [
    {
     "name": "stdout",
     "output_type": "stream",
     "text": [
      "Line 1: ['1', 'havana', 'gene', '11869', '14409', '.', '+', '.', 'gene_id \"ENSG00000223972\"; gene_version \"5\"; gene_name \"DDX11L1\"; gene_source \"havana\"; gene_biotype \"transcribed_unprocessed_pseudogene\"; havana_gene \"OTTHUMG00000000961\"; havana_gene_version \"2\";'], Number of elements: 9\n",
      "Line 2: ['1', 'havana', 'transcript', '11869', '14409', '.', '+', '.', 'gene_id \"ENSG00000223972\"; gene_version \"5\"; transcript_id \"ENST00000456328\"; transcript_version \"2\"; gene_name \"DDX11L1\"; gene_source \"havana\"; gene_biotype \"transcribed_unprocessed_pseudogene\"; havana_gene \"OTTHUMG00000000961\"; havana_gene_version \"2\"; transcript_name \"DDX11L1-002\"; transcript_source \"havana\"; transcript_biotype \"processed_transcript\"; havana_transcript \"OTTHUMT00000362751\"; havana_transcript_version \"1\"; tag \"basic\"; transcript_support_level \"1\";'], Number of elements: 9\n"
     ]
    }
   ],
   "source": [
    "# 查看前两行\n",
    "h38gtf_file_path =\"/data3/lishuhan/fasta_gtf/Homo_sapiens.GRCh38.84.gtf\"\n",
    "with open(h38gtf_file_path, 'r') as file:\n",
    "    for i, line in enumerate(file):\n",
    "        if i < 2:\n",
    "            columns = line.strip().split('\\t')\n",
    "            print(f\"Line {i + 1}: {columns}, Number of elements: {len(columns)}\")\n",
    "        else:\n",
    "            break"
   ]
  },
  {
   "cell_type": "code",
   "execution_count": 6,
   "id": "3f2d46f6-8e77-468f-b0c8-cf42eb98ed9e",
   "metadata": {},
   "outputs": [
    {
     "name": "stdout",
     "output_type": "stream",
     "text": [
      "gene: 60675\n",
      "transcript: 199184\n",
      "exon: 1176808\n",
      "CDS: 702410\n",
      "start_codon: 82403\n",
      "stop_codon: 73802\n",
      "five_prime_utr: 142040\n",
      "three_prime_utr: 131709\n",
      "Selenocysteine: 119\n"
     ]
    }
   ],
   "source": [
    "# 统计gtf文件中序列（feature）类型的频数\n",
    "type_counter = Counter()\n",
    "# 遍历GTF文件中的每一行\n",
    "for line in open(h38gtf_file_path, 'r'):\n",
    "    # 提取第三列的元素\n",
    "    type_element = line.strip().split('\\t')[2]\n",
    "    type_counter[type_element] += 1\n",
    "# 打印各种元素出现的频数\n",
    "for element, count in type_counter.items():\n",
    "    print(f\"{element}: {count}\")"
   ]
  },
  {
   "cell_type": "code",
   "execution_count": 7,
   "id": "95d64376-ed51-47aa-9fef-3240467d289c",
   "metadata": {},
   "outputs": [],
   "source": [
    "# 提取全部基因的所有转录本的CDS为一个字典型数据\n",
    "# 即type_list列为'CDS', 'stop_codon', 'start_codon'的所有数据\n",
    "chr_list = [str(each) for each in range(1, 23)] + ['X', 'Y']\n",
    "type_list = ['CDS', 'stop_codon', 'start_codon']\n",
    "Gene_dict = {}\n",
    "\n",
    "# 遍历GTF文件中的每一行\n",
    "for line in open(h38gtf_file_path, 'r'):\n",
    "    # 提取第九列的属性信息\n",
    "    attributes = line.strip().split('\\t')[8].strip(';')\n",
    "    # 使用正则表达式通过空格或分号拆分属性，忽略引号内的空格\n",
    "    fields = dict(re.findall(r'(\\S+)\\s+\"([^\"]+)\"', attributes))\n",
    "\n",
    "    # 从行中提取相关信息\n",
    "    gene_id = fields['gene_id']\n",
    "    transcript_id = fields.get('transcript_id', '')\n",
    "    exon_number = fields.get('exon_number', '')\n",
    "    strand = line.strip().split('\\t')[6]\n",
    "    chr = line.strip().split('\\t')[0].strip('chr')\n",
    "    seq_type = line.strip().split('\\t')[2]\n",
    "    start = int(line.strip().split('\\t')[3])\n",
    "    end = int(line.strip().split('\\t')[4])\n",
    "\n",
    "    # 跳过非基因条目 \n",
    "    if 'gene_name' not in fields:\n",
    "        continue\n",
    "\n",
    "    if (chr not in chr_list) or (seq_type not in type_list):\n",
    "        continue\n",
    "\n",
    "    if (seq_type == \"start_codon\"):\n",
    "        seq_type = \"startcodon\"\n",
    "    if (seq_type == \"stop_codon\"):\n",
    "        seq_type = \"stopcodon\" \n",
    "    \n",
    "    gene_name = fields['gene_name']\n",
    "\n",
    "    #  Gene_dict.setdefault(gene_name, {}) \n",
    "    # 创建一个新的键值对，键是 gene_name，对应的值是一个空字典 {}。如果前一行的 gene_name 和当前行相同，它不会删除前一行记录的信息，\n",
    "    # 而是在原有的基因条目上继续添加新的信息。这样可以确保一个基因名下包含了所有相关的转录本和外显子信息。\n",
    "    Gene_dict.setdefault(gene_name, {})   \n",
    "    if transcript_id:\n",
    "        Gene_dict[gene_name].setdefault(transcript_id, {'CDS': [strand]})  # 同上 Gene_dict.setdefault(gene_name, {})\n",
    "        CDSID = '_'.join([str(chr), str(seq_type), str(start), str(end), str(strand), str(exon_number)])   # +exon_number， \n",
    "        Gene_dict[gene_name][transcript_id]['CDS'].append(CDSID)\n",
    "        Gene_dict[gene_name][transcript_id][CDSID] = [chr, start, end] # max(int(start), last_n + 1), end]\n",
    "        #last_n = int(end)\n"
   ]
  },
  {
   "cell_type": "code",
   "execution_count": 8,
   "id": "99093ae5-ed95-4efb-8a13-bed20524ff65",
   "metadata": {},
   "outputs": [
    {
     "data": {
      "text/plain": [
       "20206"
      ]
     },
     "execution_count": 8,
     "metadata": {},
     "output_type": "execute_result"
    }
   ],
   "source": [
    "# 查看基因数量\n",
    "len(Gene_dict)"
   ]
  },
  {
   "cell_type": "code",
   "execution_count": 9,
   "id": "ce960f3a-50cc-4568-8849-553c1f06ba3c",
   "metadata": {},
   "outputs": [
    {
     "name": "stdout",
     "output_type": "stream",
     "text": [
      "Gene: ISG15\n",
      "  Transcript: ENST00000624697\n",
      "    CDS: ['+', '1_CDS_1014005_1014475_+_3', '1_startcodon_1014005_1014007_+_3', '1_stopcodon_1014476_1014478_+_3']\n",
      "    1_CDS_1014005_1014475_+_3: ['1', 1014005, 1014475]\n",
      "    1_startcodon_1014005_1014007_+_3: ['1', 1014005, 1014007]\n",
      "    1_stopcodon_1014476_1014478_+_3: ['1', 1014476, 1014478]\n",
      "  Transcript: ENST00000624652\n",
      "    CDS: ['+', '1_CDS_1014005_1014435_+_3', '1_startcodon_1014005_1014007_+_3']\n",
      "    1_CDS_1014005_1014435_+_3: ['1', 1014005, 1014435]\n",
      "    1_startcodon_1014005_1014007_+_3: ['1', 1014005, 1014007]\n",
      "  Transcript: ENST00000379389\n",
      "    CDS: ['+', '1_CDS_1013574_1013576_+_1', '1_startcodon_1013574_1013576_+_1', '1_CDS_1013984_1014475_+_2', '1_stopcodon_1014476_1014478_+_2']\n",
      "    1_CDS_1013574_1013576_+_1: ['1', 1013574, 1013576]\n",
      "    1_startcodon_1013574_1013576_+_1: ['1', 1013574, 1013576]\n",
      "    1_CDS_1013984_1014475_+_2: ['1', 1013984, 1014475]\n",
      "    1_stopcodon_1014476_1014478_+_2: ['1', 1014476, 1014478]\n",
      "\n",
      "\n"
     ]
    }
   ],
   "source": [
    "# 输出 Gene_dict 的前几个键值对\n",
    "for gene_name, transcripts in list(Gene_dict.items())[11:12]:\n",
    "    print(f\"Gene: {gene_name}\")\n",
    "    for transcript_id, info in transcripts.items():\n",
    "        print(f\"  Transcript: {transcript_id}\")\n",
    "        print(f\"    CDS: {info['CDS']}\")\n",
    "        for cds_id, cds_info in info.items():\n",
    "            if cds_id != 'CDS':\n",
    "                print(f\"    {cds_id}: {cds_info}\")\n",
    "    print(\"\\n\")\n"
   ]
  },
  {
   "cell_type": "code",
   "execution_count": 10,
   "id": "503a5eef-c20a-42fb-aa66-5bb0b2d537bc",
   "metadata": {},
   "outputs": [],
   "source": [
    "# 过滤没有‘startcodon’和'stopcodon'的转录本\n",
    "Gene_dict_fil = {}\n",
    "for eachgene in Gene_dict:\n",
    "    # 初始化变量 exon_len 记录最长的编码序列长度，start 记录最小的起始位置\n",
    "    exon_len = 0\n",
    "    start = 9999999999999999999999999999999999999999999999\n",
    "    # 遍历当前基因的每个转录本\n",
    "    for eachtran in Gene_dict[eachgene]:\n",
    "        # 获取转录本的编码方向和当前转录本的所有CDS信息\n",
    "        stand = Gene_dict[eachgene][eachtran]['CDS'][0]\n",
    "        AllCDS = Gene_dict[eachgene][eachtran]['CDS'][1:]\n",
    "        # 查看当前转录本的所有seq类型\n",
    "        seqtype_ls = [each2.split('_')[1] for each2 in AllCDS]\n",
    "        # 判断‘startcodon’和'stopcodon'是否都在seqtype_ls中\n",
    "        if 'startcodon' in seqtype_ls and 'stopcodon' in seqtype_ls:\n",
    "            Gene_dict_fil.setdefault(eachgene, {})\n",
    "            Gene_dict_fil[eachgene][eachtran] = Gene_dict[eachgene][eachtran]\n"
   ]
  },
  {
   "cell_type": "code",
   "execution_count": 11,
   "id": "43f8b091-8bc6-4f22-a414-e7f8579301cb",
   "metadata": {},
   "outputs": [
    {
     "name": "stdout",
     "output_type": "stream",
     "text": [
      "7\n",
      "5\n",
      "20206\n"
     ]
    },
    {
     "data": {
      "text/plain": [
       "19485"
      ]
     },
     "execution_count": 11,
     "metadata": {},
     "output_type": "execute_result"
    }
   ],
   "source": [
    "# 查看前后变化\n",
    "# 转录本个数\n",
    "print(len(Gene_dict['FAM227B']))\n",
    "print(len(Gene_dict_fil['FAM227B']))\n",
    "# 过滤后的基因数量\n",
    "print(len(Gene_dict))\n",
    "len(Gene_dict_fil)"
   ]
  },
  {
   "cell_type": "code",
   "execution_count": 12,
   "id": "0ab3ed12-8faf-4d37-879d-70db8924ff7d",
   "metadata": {},
   "outputs": [],
   "source": [
    "# 遍历 Gene_dict_fil 中的每个基因及其转录本，找到每个基因编码蛋白质最长的转录本，并记录其相关信息到 Max_Gene_dict 字典中\n",
    "Max_Gene_dict = {}\n",
    "for eachgene in Gene_dict_fil:\n",
    "    # 初始化变量 exon_len 记录最长的编码序列长度，start 记录最小的起始位置\n",
    "    exon_len = 0\n",
    "    start = 9999999999999999999999999999999999999999999999\n",
    "    # 遍历当前基因的每个转录本\n",
    "    for eachtran in Gene_dict_fil[eachgene]:\n",
    "        # 获取转录本的编码方向和当前转录本的所有CDS信息\n",
    "        stand = Gene_dict_fil[eachgene][eachtran]['CDS'][0]\n",
    "        AllCDS = Gene_dict_fil[eachgene][eachtran]['CDS'][1:]\n",
    "        # 计算当前转录本的编码序列长度\n",
    "        LenCDS = sum([int(each2.split('_')[3]) - int(each2.split('_')[2]) for each2 in AllCDS])\n",
    "\n",
    "        # 获取编码序列的起始位置\n",
    "        if stand == '+':\n",
    "            startexon = Gene_dict_fil[eachgene][eachtran]['CDS'][1]\n",
    "            startpos = Gene_dict_fil[eachgene][eachtran][startexon][1]\n",
    "        else:\n",
    "            startexon = Gene_dict_fil[eachgene][eachtran]['CDS'][-1]\n",
    "            startpos = Gene_dict_fil[eachgene][eachtran][startexon][2]\n",
    "        \n",
    "        # 如果当前转录本的起始位置比已记录的最小位置还小，则更新 Max_Gene_dict 中当前基因的记录为当前转录本\n",
    "        if int(stand + str(startpos)) < start:\n",
    "            start = int(stand + str(startpos))\n",
    "            Max_Gene_dict[eachgene] = Gene_dict_fil[eachgene][eachtran]\n",
    "            Max_Gene_dict[eachgene]['Rid'] = eachtran\n",
    "            exon_len = LenCDS\n",
    "        # 如果当前转录本的起始位置与已记录的最小位置相同，但编码序列长度比已记录的最长长度还长，则更新 Max_Gene_dict 中当前基因的记录为当前转录本\n",
    "        elif int(stand + str(startpos)) == start and LenCDS > exon_len:\n",
    "            exon_len = LenCDS\n",
    "            Max_Gene_dict[eachgene] = Gene_dict_fil[eachgene][eachtran]\n",
    "            Max_Gene_dict[eachgene]['Rid'] = eachtran\n"
   ]
  },
  {
   "cell_type": "code",
   "execution_count": 13,
   "id": "a5b46c3f-ef3f-414c-bd92-d21e6101cb4b",
   "metadata": {},
   "outputs": [
    {
     "data": {
      "text/plain": [
       "19485"
      ]
     },
     "execution_count": 13,
     "metadata": {},
     "output_type": "execute_result"
    }
   ],
   "source": [
    "len(Max_Gene_dict)"
   ]
  },
  {
   "cell_type": "code",
   "execution_count": 14,
   "id": "980e102b-bd08-46d7-b392-0bb625090906",
   "metadata": {},
   "outputs": [
    {
     "name": "stdout",
     "output_type": "stream",
     "text": [
      "Gene ID: FO538757.3\n",
      "CDS: ['+', '1_CDS_182709_182746_+_1', '1_startcodon_182709_182711_+_1', '1_CDS_183114_183240_+_2', '1_CDS_183922_184155_+_3', '1_stopcodon_184156_184158_+_3']\n",
      "1_CDS_182709_182746_+_1: ['1', 182709, 182746]\n",
      "1_startcodon_182709_182711_+_1: ['1', 182709, 182711]\n",
      "1_CDS_183114_183240_+_2: ['1', 183114, 183240]\n",
      "1_CDS_183922_184155_+_3: ['1', 183922, 184155]\n",
      "1_stopcodon_184156_184158_+_3: ['1', 184156, 184158]\n",
      "Rid: ENST00000624431\n",
      "\n",
      "Gene ID: FO538757.2\n",
      "CDS: ['-', '1_CDS_195263_195411_-_1', '1_startcodon_195409_195411_-_1', '1_CDS_188791_188902_-_2', '1_CDS_188489_188584_-_3', '1_CDS_188439_188486_-_4', '1_CDS_188126_188266_-_5', '1_CDS_187755_187886_-_6', '1_CDS_187376_187577_-_7', '1_CDS_187129_187287_-_8', '1_CDS_186317_186469_-_9', '1_CDS_185491_185559_-_10', '1_CDS_185220_185350_-_11', '1_stopcodon_185217_185219_-_11']\n",
      "1_CDS_195263_195411_-_1: ['1', 195263, 195411]\n",
      "1_startcodon_195409_195411_-_1: ['1', 195409, 195411]\n",
      "1_CDS_188791_188902_-_2: ['1', 188791, 188902]\n",
      "1_CDS_188489_188584_-_3: ['1', 188489, 188584]\n",
      "1_CDS_188439_188486_-_4: ['1', 188439, 188486]\n",
      "1_CDS_188126_188266_-_5: ['1', 188126, 188266]\n",
      "1_CDS_187755_187886_-_6: ['1', 187755, 187886]\n",
      "1_CDS_187376_187577_-_7: ['1', 187376, 187577]\n",
      "1_CDS_187129_187287_-_8: ['1', 187129, 187287]\n",
      "1_CDS_186317_186469_-_9: ['1', 186317, 186469]\n",
      "1_CDS_185491_185559_-_10: ['1', 185491, 185559]\n",
      "1_CDS_185220_185350_-_11: ['1', 185220, 185350]\n",
      "1_stopcodon_185217_185219_-_11: ['1', 185217, 185219]\n",
      "Rid: ENST00000623083\n",
      "\n"
     ]
    }
   ],
   "source": [
    "# 查看几个\n",
    "for gene_id in list(Max_Gene_dict.keys())[1:3]:\n",
    "    gene_data = Max_Gene_dict.get(gene_id)\n",
    "    print(\"Gene ID:\", gene_id)\n",
    "    for key, value in gene_data.items():\n",
    "        print(f\"{key}: {value}\")\n",
    "    print()"
   ]
  },
  {
   "cell_type": "markdown",
   "id": "c73dcf32-4f3c-40f0-a0e9-c35001f9c454",
   "metadata": {},
   "source": [
    "### 3.导入rMats结果分析提取可变剪接异构体"
   ]
  },
  {
   "cell_type": "code",
   "execution_count": 31,
   "id": "d6d9136d-e408-43fb-929d-92b5150fddaa",
   "metadata": {
    "scrolled": true
   },
   "outputs": [
    {
     "name": "stdout",
     "output_type": "stream",
     "text": [
      "(172521, 27)\n",
      "Index(['ID', 'splicing_type', 'GeneID', 'geneSymbol', 'chr', 'strand',\n",
      "       'PValue', 'FDR', 'IncLevelDifference', 'exonStart_0base', 'exonEnd',\n",
      "       'upstreamES', 'upstreamEE', 'downstreamES', 'downstreamEE',\n",
      "       'longExonStart_0base', 'longExonEnd', 'shortES', 'shortEE',\n",
      "       'flankingES', 'flankingEE', '1stExonStart_0base', '1stExonEnd',\n",
      "       '2ndExonStart_0base', '2ndExonEnd', 'riExonStart_0base', 'riExonEnd'],\n",
      "      dtype='object')\n"
     ]
    },
    {
     "data": {
      "text/html": [
       "<div>\n",
       "<style scoped>\n",
       "    .dataframe tbody tr th:only-of-type {\n",
       "        vertical-align: middle;\n",
       "    }\n",
       "\n",
       "    .dataframe tbody tr th {\n",
       "        vertical-align: top;\n",
       "    }\n",
       "\n",
       "    .dataframe thead th {\n",
       "        text-align: right;\n",
       "    }\n",
       "</style>\n",
       "<table border=\"1\" class=\"dataframe\">\n",
       "  <thead>\n",
       "    <tr style=\"text-align: right;\">\n",
       "      <th></th>\n",
       "      <th>ID</th>\n",
       "      <th>splicing_type</th>\n",
       "      <th>GeneID</th>\n",
       "      <th>geneSymbol</th>\n",
       "      <th>chr</th>\n",
       "      <th>strand</th>\n",
       "      <th>PValue</th>\n",
       "      <th>FDR</th>\n",
       "      <th>IncLevelDifference</th>\n",
       "      <th>exonStart_0base</th>\n",
       "      <th>...</th>\n",
       "      <th>shortES</th>\n",
       "      <th>shortEE</th>\n",
       "      <th>flankingES</th>\n",
       "      <th>flankingEE</th>\n",
       "      <th>1stExonStart_0base</th>\n",
       "      <th>1stExonEnd</th>\n",
       "      <th>2ndExonStart_0base</th>\n",
       "      <th>2ndExonEnd</th>\n",
       "      <th>riExonStart_0base</th>\n",
       "      <th>riExonEnd</th>\n",
       "    </tr>\n",
       "  </thead>\n",
       "  <tbody>\n",
       "    <tr>\n",
       "      <th>200</th>\n",
       "      <td>SE209</td>\n",
       "      <td>SE</td>\n",
       "      <td>ENSG00000160218</td>\n",
       "      <td>TRAPPC10</td>\n",
       "      <td>chr21</td>\n",
       "      <td>+</td>\n",
       "      <td>1.0</td>\n",
       "      <td>1.0</td>\n",
       "      <td>0.004</td>\n",
       "      <td>44063537.0</td>\n",
       "      <td>...</td>\n",
       "      <td>NaN</td>\n",
       "      <td>NaN</td>\n",
       "      <td>NaN</td>\n",
       "      <td>NaN</td>\n",
       "      <td>NaN</td>\n",
       "      <td>NaN</td>\n",
       "      <td>NaN</td>\n",
       "      <td>NaN</td>\n",
       "      <td>NaN</td>\n",
       "      <td>NaN</td>\n",
       "    </tr>\n",
       "    <tr>\n",
       "      <th>201</th>\n",
       "      <td>SE210</td>\n",
       "      <td>SE</td>\n",
       "      <td>ENSG00000160218</td>\n",
       "      <td>TRAPPC10</td>\n",
       "      <td>chr21</td>\n",
       "      <td>+</td>\n",
       "      <td>1.0</td>\n",
       "      <td>1.0</td>\n",
       "      <td>0.003</td>\n",
       "      <td>44074323.0</td>\n",
       "      <td>...</td>\n",
       "      <td>NaN</td>\n",
       "      <td>NaN</td>\n",
       "      <td>NaN</td>\n",
       "      <td>NaN</td>\n",
       "      <td>NaN</td>\n",
       "      <td>NaN</td>\n",
       "      <td>NaN</td>\n",
       "      <td>NaN</td>\n",
       "      <td>NaN</td>\n",
       "      <td>NaN</td>\n",
       "    </tr>\n",
       "    <tr>\n",
       "      <th>202</th>\n",
       "      <td>SE211</td>\n",
       "      <td>SE</td>\n",
       "      <td>ENSG00000160218</td>\n",
       "      <td>TRAPPC10</td>\n",
       "      <td>chr21</td>\n",
       "      <td>+</td>\n",
       "      <td>1.0</td>\n",
       "      <td>1.0</td>\n",
       "      <td>-0.000</td>\n",
       "      <td>44077692.0</td>\n",
       "      <td>...</td>\n",
       "      <td>NaN</td>\n",
       "      <td>NaN</td>\n",
       "      <td>NaN</td>\n",
       "      <td>NaN</td>\n",
       "      <td>NaN</td>\n",
       "      <td>NaN</td>\n",
       "      <td>NaN</td>\n",
       "      <td>NaN</td>\n",
       "      <td>NaN</td>\n",
       "      <td>NaN</td>\n",
       "    </tr>\n",
       "    <tr>\n",
       "      <th>203</th>\n",
       "      <td>SE212</td>\n",
       "      <td>SE</td>\n",
       "      <td>ENSG00000160218</td>\n",
       "      <td>TRAPPC10</td>\n",
       "      <td>chr21</td>\n",
       "      <td>+</td>\n",
       "      <td>1.0</td>\n",
       "      <td>1.0</td>\n",
       "      <td>-0.000</td>\n",
       "      <td>44079563.0</td>\n",
       "      <td>...</td>\n",
       "      <td>NaN</td>\n",
       "      <td>NaN</td>\n",
       "      <td>NaN</td>\n",
       "      <td>NaN</td>\n",
       "      <td>NaN</td>\n",
       "      <td>NaN</td>\n",
       "      <td>NaN</td>\n",
       "      <td>NaN</td>\n",
       "      <td>NaN</td>\n",
       "      <td>NaN</td>\n",
       "    </tr>\n",
       "  </tbody>\n",
       "</table>\n",
       "<p>4 rows × 27 columns</p>\n",
       "</div>"
      ],
      "text/plain": [
       "        ID splicing_type           GeneID geneSymbol    chr strand  PValue  \\\n",
       "200  SE209            SE  ENSG00000160218   TRAPPC10  chr21      +     1.0   \n",
       "201  SE210            SE  ENSG00000160218   TRAPPC10  chr21      +     1.0   \n",
       "202  SE211            SE  ENSG00000160218   TRAPPC10  chr21      +     1.0   \n",
       "203  SE212            SE  ENSG00000160218   TRAPPC10  chr21      +     1.0   \n",
       "\n",
       "     FDR  IncLevelDifference  exonStart_0base  ...  shortES  shortEE  \\\n",
       "200  1.0               0.004       44063537.0  ...      NaN      NaN   \n",
       "201  1.0               0.003       44074323.0  ...      NaN      NaN   \n",
       "202  1.0              -0.000       44077692.0  ...      NaN      NaN   \n",
       "203  1.0              -0.000       44079563.0  ...      NaN      NaN   \n",
       "\n",
       "     flankingES  flankingEE  1stExonStart_0base  1stExonEnd  \\\n",
       "200         NaN         NaN                 NaN         NaN   \n",
       "201         NaN         NaN                 NaN         NaN   \n",
       "202         NaN         NaN                 NaN         NaN   \n",
       "203         NaN         NaN                 NaN         NaN   \n",
       "\n",
       "     2ndExonStart_0base  2ndExonEnd  riExonStart_0base  riExonEnd  \n",
       "200                 NaN         NaN                NaN        NaN  \n",
       "201                 NaN         NaN                NaN        NaN  \n",
       "202                 NaN         NaN                NaN        NaN  \n",
       "203                 NaN         NaN                NaN        NaN  \n",
       "\n",
       "[4 rows x 27 columns]"
      ]
     },
     "execution_count": 31,
     "metadata": {},
     "output_type": "execute_result"
    }
   ],
   "source": [
    "# 读取rMats结果\n",
    "rMats_results = pd.read_csv(\"/data3/lishuhan/30GSE_health_SRR/v3AS/v2_old_you/file/rMAts_results.csv\")\n",
    "# 查看原始可变剪接结果\n",
    "print(rMats_results.shape)\n",
    "print(rMats_results.columns)\n",
    "rMats_results.loc[200:203, ]"
   ]
  },
  {
   "cell_type": "code",
   "execution_count": 32,
   "id": "60da0bb0-7a85-481a-87b3-e12e915628c5",
   "metadata": {},
   "outputs": [
    {
     "data": {
      "text/plain": [
       "(13601, 27)"
      ]
     },
     "execution_count": 32,
     "metadata": {},
     "output_type": "execute_result"
    }
   ],
   "source": [
    "# 筛选显著的可变剪接事件\n",
    "rMats_results = rMats_results[(rMats_results['FDR'] < 0.05) & \n",
    "                              (abs(rMats_results['IncLevelDifference']) > 0.1)]\n",
    "\n",
    "# 筛选后的可变剪接事件数量\n",
    "rMats_results.shape"
   ]
  },
  {
   "cell_type": "code",
   "execution_count": 33,
   "id": "cdfb4483-fae3-4fff-b5e1-b68efe8fd8f6",
   "metadata": {
    "scrolled": true
   },
   "outputs": [
    {
     "name": "stderr",
     "output_type": "stream",
     "text": [
      "/data2/lishuhan/mini/lib/python3.7/site-packages/Bio/Seq.py:2808: BiopythonWarning: Partial codon, len(sequence) not a multiple of three. Explicitly trim the sequence or add trailing N before translation. This may become an error in future.\n",
      "  BiopythonWarning,\n"
     ]
    }
   ],
   "source": [
    "fafile = '/data3/lishuhan/30GSE_health_SRR/v3AS/v2_old_you/file/DASEs_Peptides_MT.fa' # 只有突变后MT的序列文件\n",
    "fafile2 = '/data3/lishuhan/30GSE_health_SRR/v3AS/v2_old_you/file/DASEs_Peptides_anno.csv' # 序列注释文件\n",
    "fafile3 = '/data3/lishuhan/30GSE_health_SRR/v3AS/v2_old_you/file/DASEs_Peptides_WT_MT.fa' # 所有突变前和突变后的序列文件\n",
    "fafile4 = '/data3/lishuhan/30GSE_health_SRR/v3AS/v2_old_you/file/DASEs_Peptides_all_info.csv'  # 包含所有信息文件\n",
    "\n",
    "fa = open(fafile, 'w') \n",
    "fa3 = open(fafile3, 'w')\n",
    "fa4 = open(fafile4, 'w')\n",
    "\n",
    "fa2 = open(fafile2, 'w') \n",
    "fa2.write('\\t'.join(\n",
    "        ['AS_event_ID', 'AS_type', 'GeneID', 'geneSymbol', 'tranid', 'FDR', 'IncLevelDifference', 'CDS_same', 'dif_cut_seq']) + '\\n') \n",
    "fa4.write('\\t'.join(\n",
    "        ['AS_event_ID', 'AS_type', 'GeneID', 'geneSymbol', 'tranid', 'FDR', 'IncLevelDifference', 'CDS_same',\n",
    "         'Unspliced_dna_seq', 'Spliced_dna_seq', 'Unspliced_AA_seq', 'Spliced_AA_seq', 'dif_cut_seq']) + '\\n') \n",
    "\n",
    "\n",
    "genes_in_dict = list(Max_Gene_dict.keys())\n",
    "\n",
    "# rMats_results结果逐行提取，并写入结果文件\n",
    "for i in range(rMats_results.shape[0]):\n",
    "    row_data = rMats_results.iloc[i]\n",
    "    geneSymbol = row_data['geneSymbol']\n",
    "    if geneSymbol not in genes_in_dict:\n",
    "        continue\n",
    "    AS_event_ID = row_data['ID']\n",
    "    AS_type = row_data['splicing_type']\n",
    "    GeneID = row_data['GeneID']\n",
    "    FDR = row_data['FDR']\n",
    "    IncLevelDifference = row_data['IncLevelDifference']\n",
    "\n",
    "\n",
    "    tranid, Ref_dna, Mutation_dna, Ref_aa, Mutation_aa = Merge(Max_Gene_dict, row_data)\n",
    "\n",
    "    if Ref_aa == Mutation_aa:\n",
    "        CDS_same = 'Same'\n",
    "    else:\n",
    "        CDS_same = 'Different'\n",
    "    dif_cut_seq = cutseq(Ref_aa, Mutation_aa, AS_type)\n",
    "    #print(i)\n",
    "    # 写入文件\n",
    "    fa2.write('\\t'.join([str(AS_event_ID), str(AS_type), str(GeneID), str(geneSymbol), str(tranid), str(FDR), str(IncLevelDifference), \n",
    "                         str(CDS_same), ','.join(map(str, dif_cut_seq))]) + '\\n')\n",
    "    fa4.write('\\t'.join([str(AS_event_ID), str(AS_type), str(GeneID), str(geneSymbol), str(tranid), str(FDR), str(IncLevelDifference), \n",
    "                         str(CDS_same), str(Ref_dna), str(Mutation_dna), str(Ref_aa), str(Mutation_aa), ','.join(map(str, dif_cut_seq))]) + '\\n')\n",
    "\n",
    "\n",
    "    if CDS_same == 'Different':\n",
    "        fa3.write('>' + ';'.join([str(AS_event_ID), str(geneSymbol), str(tranid), 'WT']) + '\\n' + str(Ref_aa) + '\\n')\n",
    "        fa3.write('>' + ';'.join([str(AS_event_ID), str(geneSymbol), str(tranid), 'MT']) + '\\n' + str(Mutation_aa) + '\\n')\n",
    "        fa.write('>' + ';'.join([ str(AS_event_ID), str(geneSymbol), str(tranid), 'MT']) + '\\n' + str(Mutation_aa) + '\\n')\n",
    "\n",
    "    else:\n",
    "        fa3.write('>' + ';'.join([str(AS_event_ID), str(geneSymbol), str(tranid), 'WT']) + '\\n' + str(Ref_aa) + '\\n')\n"
   ]
  },
  {
   "cell_type": "code",
   "execution_count": 34,
   "id": "3d2604fa",
   "metadata": {},
   "outputs": [
    {
     "data": {
      "text/html": [
       "<div>\n",
       "<style scoped>\n",
       "    .dataframe tbody tr th:only-of-type {\n",
       "        vertical-align: middle;\n",
       "    }\n",
       "\n",
       "    .dataframe tbody tr th {\n",
       "        vertical-align: top;\n",
       "    }\n",
       "\n",
       "    .dataframe thead th {\n",
       "        text-align: right;\n",
       "    }\n",
       "</style>\n",
       "<table border=\"1\" class=\"dataframe\">\n",
       "  <thead>\n",
       "    <tr style=\"text-align: right;\">\n",
       "      <th></th>\n",
       "      <th>AS_event_ID</th>\n",
       "      <th>AS_type</th>\n",
       "      <th>GeneID</th>\n",
       "      <th>geneSymbol</th>\n",
       "      <th>tranid</th>\n",
       "      <th>FDR</th>\n",
       "      <th>IncLevelDifference</th>\n",
       "      <th>CDS_same</th>\n",
       "      <th>dif_cut_seq</th>\n",
       "    </tr>\n",
       "  </thead>\n",
       "  <tbody>\n",
       "    <tr>\n",
       "      <th>0</th>\n",
       "      <td>SE127</td>\n",
       "      <td>SE</td>\n",
       "      <td>ENSG00000186866</td>\n",
       "      <td>POFUT2</td>\n",
       "      <td>ENST00000612472</td>\n",
       "      <td>4.363717e-02</td>\n",
       "      <td>0.124</td>\n",
       "      <td>Same</td>\n",
       "      <td>NaN</td>\n",
       "    </tr>\n",
       "    <tr>\n",
       "      <th>1</th>\n",
       "      <td>SE222</td>\n",
       "      <td>SE</td>\n",
       "      <td>ENSG00000160218</td>\n",
       "      <td>TRAPPC10</td>\n",
       "      <td>ENST00000291574</td>\n",
       "      <td>3.884862e-02</td>\n",
       "      <td>0.115</td>\n",
       "      <td>Same</td>\n",
       "      <td>NaN</td>\n",
       "    </tr>\n",
       "    <tr>\n",
       "      <th>2</th>\n",
       "      <td>SE279</td>\n",
       "      <td>SE</td>\n",
       "      <td>ENSG00000160194</td>\n",
       "      <td>NDUFV3</td>\n",
       "      <td>ENST00000354250</td>\n",
       "      <td>1.012211e-02</td>\n",
       "      <td>-0.115</td>\n",
       "      <td>Different</td>\n",
       "      <td>EARAEGQLQ,PAPAVLAEE,PKNVVEPKE,VLFTDEGVP,PFRKQG...</td>\n",
       "    </tr>\n",
       "    <tr>\n",
       "      <th>3</th>\n",
       "      <td>SE383</td>\n",
       "      <td>SE</td>\n",
       "      <td>ENSG00000159267</td>\n",
       "      <td>HLCS</td>\n",
       "      <td>ENST00000336648</td>\n",
       "      <td>2.432823e-08</td>\n",
       "      <td>0.220</td>\n",
       "      <td>Same</td>\n",
       "      <td>NaN</td>\n",
       "    </tr>\n",
       "    <tr>\n",
       "      <th>4</th>\n",
       "      <td>SE387</td>\n",
       "      <td>SE</td>\n",
       "      <td>ENSG00000159267</td>\n",
       "      <td>HLCS</td>\n",
       "      <td>ENST00000336648</td>\n",
       "      <td>0.000000e+00</td>\n",
       "      <td>0.220</td>\n",
       "      <td>Same</td>\n",
       "      <td>NaN</td>\n",
       "    </tr>\n",
       "  </tbody>\n",
       "</table>\n",
       "</div>"
      ],
      "text/plain": [
       "  AS_event_ID AS_type           GeneID geneSymbol           tranid  \\\n",
       "0       SE127      SE  ENSG00000186866     POFUT2  ENST00000612472   \n",
       "1       SE222      SE  ENSG00000160218   TRAPPC10  ENST00000291574   \n",
       "2       SE279      SE  ENSG00000160194     NDUFV3  ENST00000354250   \n",
       "3       SE383      SE  ENSG00000159267       HLCS  ENST00000336648   \n",
       "4       SE387      SE  ENSG00000159267       HLCS  ENST00000336648   \n",
       "\n",
       "            FDR  IncLevelDifference   CDS_same  \\\n",
       "0  4.363717e-02               0.124       Same   \n",
       "1  3.884862e-02               0.115       Same   \n",
       "2  1.012211e-02              -0.115  Different   \n",
       "3  2.432823e-08               0.220       Same   \n",
       "4  0.000000e+00               0.220       Same   \n",
       "\n",
       "                                         dif_cut_seq  \n",
       "0                                                NaN  \n",
       "1                                                NaN  \n",
       "2  EARAEGQLQ,PAPAVLAEE,PKNVVEPKE,VLFTDEGVP,PFRKQG...  \n",
       "3                                                NaN  \n",
       "4                                                NaN  "
      ]
     },
     "execution_count": 34,
     "metadata": {},
     "output_type": "execute_result"
    }
   ],
   "source": [
    "fafile2 = '/data3/lishuhan/30GSE_health_SRR/v3AS/v2_old_you/file/DASEs_Peptides_anno.csv' # 序列注释文件\n",
    "DASEs_Peptides_anno = pd.read_csv(fafile2, sep='\\t')\n",
    "DASEs_Peptides_anno.head()"
   ]
  },
  {
   "cell_type": "code",
   "execution_count": 35,
   "id": "870682bb",
   "metadata": {},
   "outputs": [
    {
     "name": "stdout",
     "output_type": "stream",
     "text": [
      "(12585, 9)\n",
      "------------------总体-----------------------\n",
      "Different    7535\n",
      "Same         5050\n",
      "Name: CDS_same, dtype: int64\n",
      "------------------分类型-----------------------\n",
      "AS_type  CDS_same \n",
      "A3SS     Different     109\n",
      "         Same          682\n",
      "A5SS     Different     435\n",
      "         Same          293\n",
      "MXE      Different    5009\n",
      "         Same         1052\n",
      "RI       Different     693\n",
      "         Same          951\n",
      "SE       Different    1289\n",
      "         Same         2072\n",
      "dtype: int64\n"
     ]
    }
   ],
   "source": [
    "# 统计突变情况\n",
    "DASEs_Peptides_anno = pd.read_csv(fafile2, sep='\\t')\n",
    "print(DASEs_Peptides_anno.shape)\n",
    "print(\"------------------总体-----------------------\")\n",
    "print(DASEs_Peptides_anno[\"CDS_same\"].value_counts())\n",
    "print(\"------------------分类型-----------------------\")\n",
    "counts = DASEs_Peptides_anno.groupby(['AS_type', 'CDS_same']).size()\n",
    "print(counts)"
   ]
  },
  {
   "cell_type": "markdown",
   "id": "c8ae029c-2274-42f5-8010-13f355f0a315",
   "metadata": {
    "jp-MarkdownHeadingCollapsed": true
   },
   "source": [
    "### 测试代码，先保留，后续可能使用"
   ]
  },
  {
   "cell_type": "code",
   "execution_count": 29,
   "id": "f531c793-5986-4dae-9c1a-6b5175281d72",
   "metadata": {},
   "outputs": [
    {
     "name": "stdout",
     "output_type": "stream",
     "text": [
      "2037\n"
     ]
    },
    {
     "data": {
      "text/plain": [
       "1662"
      ]
     },
     "execution_count": 29,
     "metadata": {},
     "output_type": "execute_result"
    }
   ],
   "source": [
    "# 代码测试\n",
    "stand = Gene_dict_fil[\"SAMD11\"]['ENST00000622503']['CDS'][0]\n",
    "AllCDS = Gene_dict_fil[\"SAMD11\"]['ENST00000622503']['CDS'][1:]\n",
    "# CDSID = '_'.join([chr, exon_number, start, end, strand])  \n",
    "LenCDS = sum([int(each2.split('_')[3]) - int(each2.split('_')[2]) for each2 in AllCDS])\n",
    "stand = Gene_dict_fil[\"SAMD11\"]['ENST00000618181']['CDS'][0]\n",
    "AllCDS = Gene_dict_fil[\"SAMD11\"]['ENST00000618181']['CDS'][1:]\n",
    "# CDSID = '_'.join([chr, exon_number, start, end, strand])  \n",
    "LenCDS2 = sum([int(each2.split('_')[3]) - int(each2.split('_')[2]) for each2 in AllCDS])\n",
    "print(LenCDS)\n",
    "LenCDS2"
   ]
  },
  {
   "cell_type": "code",
   "execution_count": 30,
   "id": "66920083-7cbb-498c-b48c-98c03e016de1",
   "metadata": {},
   "outputs": [],
   "source": [
    "##Get thr pos of each tran 提取每个转录本的位置\n",
    "type_list = ['exon']\n",
    "Tran_pos_dict = {}\n",
    "# Tran_pos_dict\n",
    "for line in open(h38gtf_file_path, 'r'):\n",
    "    # 提取第九列的属性信息\n",
    "    attributes = line.strip().split('\\t')[8].strip(';')\n",
    "    # 使用正则表达式通过空格或分号拆分属性，忽略引号内的空格\n",
    "    fields = dict(re.findall(r'(\\S+)\\s+\"([^\"]+)\"', attributes))\n",
    "\n",
    "    # 从行中提取相关信息\n",
    "    gene_id = fields['gene_id']\n",
    "    transcript_id = fields.get('transcript_id', '')\n",
    "    exon_number = fields.get('exon_number', '')\n",
    "    strand = line.strip().split('\\t')[6]\n",
    "    chr = line.strip().split('\\t')[0].strip('chr')\n",
    "    seq_type = line.strip().split('\\t')[2]\n",
    "    start = int(line.strip().split('\\t')[3])\n",
    "    end = int(line.strip().split('\\t')[4])\n",
    "\n",
    "    # 跳过非基因条目\n",
    "    if 'gene_name' not in fields:\n",
    "        continue\n",
    "\n",
    "    if (chr not in chr_list) or (seq_type not in type_list) or (transcript_id.startswith('NR')):\n",
    "        continue\n",
    "    gene_name = fields['gene_name']\n",
    "    Tran_pos_dict.setdefault(gene_name, {})\n",
    "    Tran_pos_dict[gene_name].setdefault(transcript_id, {})\n",
    "    Tran_pos_dict[gene_name][transcript_id].setdefault('start', []).append(start)\n",
    "    Tran_pos_dict[gene_name][transcript_id].setdefault('end', []).append(end)\n"
   ]
  },
  {
   "cell_type": "code",
   "execution_count": 23,
   "id": "bfb40d38-e57c-4954-ab67-e16215598d1a",
   "metadata": {},
   "outputs": [
    {
     "name": "stdout",
     "output_type": "stream",
     "text": [
      "Gene: DDX11L1\n",
      "  Transcript: ENST00000456328\n",
      "    start: [11869, 12613, 13221]\n",
      "    end: [12227, 12721, 14409]\n",
      "  Transcript: ENST00000450305\n",
      "    start: [12010, 12179, 12613, 12975, 13221, 13453]\n",
      "    end: [12057, 12227, 12697, 13052, 13374, 13670]\n",
      "\n",
      "\n",
      "Gene: WASH7P\n",
      "  Transcript: ENST00000488147\n",
      "    start: [29534, 24738, 18268, 17915, 17606, 17233, 16858, 16607, 15796, 15005, 14404]\n",
      "    end: [29570, 24891, 18366, 18061, 17742, 17368, 17055, 16765, 15947, 15038, 14501]\n",
      "  Transcript: ENST00000400706\n",
      "    start: [31878, 26801, 18373, 18037, 17723, 17348, 16969, 16722, 15913, 15085, 14522]\n",
      "    end: [32015, 26954, 18471, 18183, 17859, 17483, 17170, 16880, 16065, 15153, 14944]\n",
      "\n",
      "\n"
     ]
    }
   ],
   "source": [
    "# 输出 Tran_pos_dict 的前几个键值对\n",
    "for gene_name, transcripts in list(Tran_pos_dict.items())[:2]:\n",
    "    print(f\"Gene: {gene_name}\")\n",
    "    for transcript_id, info in transcripts.items():\n",
    "        print(f\"  Transcript: {transcript_id}\")\n",
    "        for cds_id, cds_info in info.items():\n",
    "            print(f\"    {cds_id}: {cds_info}\")\n",
    "    print(\"\\n\")"
   ]
  },
  {
   "cell_type": "code",
   "execution_count": 31,
   "id": "135baea3-7ce8-46ee-86ef-65b95304e2e8",
   "metadata": {},
   "outputs": [
    {
     "name": "stdout",
     "output_type": "stream",
     "text": [
      "  Transcript: ENST00000559573\n",
      "    start: [49396244, 49395975, 49371302, 49331780, 49326962]\n",
      "    end: [49396442, 49396097, 49371399, 49331849, 49328675]\n",
      "  Transcript: ENST00000299338\n",
      "    start: [49620700, 49615121, 49611215, 49589776, 49588016, 49577629, 49576741, 49575011, 49568245, 49541680, 49508211, 49371302, 49367448, 49335419, 49331780, 49328391]\n",
      "    end: [49620931, 49615243, 49611268, 49590007, 49588083, 49577664, 49576845, 49575109, 49568346, 49541806, 49508348, 49371399, 49367608, 49335496, 49331849, 49328675]\n",
      "  Transcript: ENST00000560557\n",
      "    start: [49334218, 49331780, 49328393]\n",
      "    end: [49334302, 49331849, 49328675]\n",
      "  Transcript: ENST00000561064\n",
      "    start: [49620631, 49615121, 49611215, 49589776, 49588016, 49577629, 49576741, 49575011, 49541680, 49508211, 49422400]\n",
      "    end: [49620929, 49615243, 49611268, 49590007, 49588083, 49577664, 49576845, 49575109, 49541806, 49508348, 49422714]\n",
      "  Transcript: ENST00000559351\n",
      "    start: [49508211, 49489061]\n",
      "    end: [49508294, 49489391]\n",
      "  Transcript: ENST00000561319\n",
      "    start: [49615121, 49611215, 49589776, 49588016, 49577629, 49576741, 49574738]\n",
      "    end: [49615171, 49611268, 49590007, 49588083, 49577664, 49576845, 49575109]\n",
      "  Transcript: ENST00000558615\n",
      "    start: [49620631, 49615121, 49611215, 49589776, 49588016, 49574861]\n",
      "    end: [49620822, 49615243, 49611268, 49590007, 49588083, 49575109]\n",
      "  Transcript: ENST00000558579\n",
      "    start: [49589776, 49588016, 49577629, 49576136]\n",
      "    end: [49589943, 49588083, 49577664, 49576845]\n",
      "  Transcript: ENST00000558594\n",
      "    start: [49620700, 49620134, 49615121, 49611215, 49589776, 49588016, 49577172, 49576494]\n",
      "    end: [49620818, 49620190, 49615243, 49611268, 49590007, 49588083, 49577305, 49576845]\n",
      "  Transcript: ENST00000561116\n",
      "    start: [49615121, 49611215, 49588016, 49577629, 49576560]\n",
      "    end: [49615238, 49611268, 49588083, 49577664, 49576845]\n",
      "  Transcript: ENST00000559905\n",
      "    start: [49620631, 49620134, 49615121, 49611215, 49589776, 49588016, 49577629, 49576741]\n",
      "    end: [49620747, 49620190, 49615243, 49611268, 49590007, 49588083, 49577664, 49576845]\n",
      "  Transcript: ENST00000560246\n",
      "    start: [49620631, 49615121, 49611215, 49589776, 49588016, 49577629, 49577172, 49576761]\n",
      "    end: [49620809, 49615243, 49611268, 49590007, 49588083, 49577664, 49577305, 49576845]\n",
      "  Transcript: ENST00000558862\n",
      "    start: [49620700, 49615121, 49611215, 49606156, 49589776]\n",
      "    end: [49620897, 49615243, 49611268, 49606218, 49590007]\n",
      "  Transcript: ENST00000557892\n",
      "    start: [49620700, 49614792]\n",
      "    end: [49620816, 49615243]\n"
     ]
    }
   ],
   "source": [
    "transcripts = Tran_pos_dict['FAM227B']\n",
    "for transcript_id, info in transcripts.items():\n",
    "        print(f\"  Transcript: {transcript_id}\")\n",
    "        for cds_id, cds_info in info.items():\n",
    "            print(f\"    {cds_id}: {cds_info}\")"
   ]
  },
  {
   "cell_type": "code",
   "execution_count": 32,
   "id": "f7373926-c736-4be7-a88d-3375e3544634",
   "metadata": {},
   "outputs": [],
   "source": [
    "##Get the exon pos 提取外显子的位置信息\n",
    "Gene_pos = {}\n",
    "\n",
    "# 遍历 GTF 文件的每一行\n",
    "for line in open(h38gtf_file_path, 'r'):\n",
    "    # 解析每一行的字段\n",
    "    fields = line.strip().split('\\t')\n",
    "    chr = fields[0].strip('chr')\n",
    "    seq_type = fields[2]\n",
    "    start = int(fields[3])\n",
    "    end = int(fields[4])\n",
    "    strand = fields[6]\n",
    "\n",
    "    # 仅处理基因和外显子类型的行\n",
    "    if seq_type not in ['gene', 'exon']:\n",
    "        continue\n",
    "\n",
    "    # 提取基因名和外显子编号\n",
    "    attributes = fields[8]\n",
    "    gene_id = re.search(r'gene_id \"(.*?)\";', attributes).group(1)\n",
    "    gene_name = re.search(r'gene_name \"(.*?)\";', attributes).group(1)\n",
    "    exon_number_match = re.search(r'exon_number \"(.*?)\";', attributes)\n",
    "    exon_number = exon_number_match.group(1) if exon_number_match else None\n",
    "\n",
    "    # 如果是基因行，则创建基因的字典条目\n",
    "    if seq_type == 'gene':\n",
    "        Gene_pos.setdefault(gene_name, {})\n",
    "    # 如果是外显子行，则将外显子的位置信息存储到基因的字典中\n",
    "    elif seq_type == 'exon':\n",
    "        if gene_name in Gene_pos:\n",
    "            Gene_pos[gene_name].setdefault(exon_number, [])\n",
    "            if strand == '+':\n",
    "                Gene_pos[gene_name][exon_number] = [start, end]\n",
    "            else:\n",
    "                Gene_pos[gene_name][exon_number] = [end, start]\n"
   ]
  },
  {
   "cell_type": "code",
   "execution_count": 28,
   "id": "f5cf4c1d-2a3b-428e-9f9f-5f6748134b81",
   "metadata": {},
   "outputs": [
    {
     "ename": "NameError",
     "evalue": "name 'Gene_pos' is not defined",
     "output_type": "error",
     "traceback": [
      "\u001b[0;31m---------------------------------------------------------------------------\u001b[0m",
      "\u001b[0;31mNameError\u001b[0m                                 Traceback (most recent call last)",
      "\u001b[0;32m/tmp/ipykernel_272329/417850010.py\u001b[0m in \u001b[0;36m<module>\u001b[0;34m\u001b[0m\n\u001b[1;32m      1\u001b[0m \u001b[0;31m# 输出 Gene_pos 的前几个键值对\u001b[0m\u001b[0;34m\u001b[0m\u001b[0;34m\u001b[0m\u001b[0;34m\u001b[0m\u001b[0m\n\u001b[0;32m----> 2\u001b[0;31m \u001b[0;32mfor\u001b[0m \u001b[0mgene_name\u001b[0m\u001b[0;34m,\u001b[0m \u001b[0mexons\u001b[0m \u001b[0;32min\u001b[0m \u001b[0mlist\u001b[0m\u001b[0;34m(\u001b[0m\u001b[0mGene_pos\u001b[0m\u001b[0;34m.\u001b[0m\u001b[0mitems\u001b[0m\u001b[0;34m(\u001b[0m\u001b[0;34m)\u001b[0m\u001b[0;34m)\u001b[0m\u001b[0;34m[\u001b[0m\u001b[0;34m:\u001b[0m\u001b[0;36m2\u001b[0m\u001b[0;34m]\u001b[0m\u001b[0;34m:\u001b[0m\u001b[0;34m\u001b[0m\u001b[0;34m\u001b[0m\u001b[0m\n\u001b[0m\u001b[1;32m      3\u001b[0m     \u001b[0mprint\u001b[0m\u001b[0;34m(\u001b[0m\u001b[0;34mf\"Gene: {gene_name}\"\u001b[0m\u001b[0;34m)\u001b[0m\u001b[0;34m\u001b[0m\u001b[0;34m\u001b[0m\u001b[0m\n\u001b[1;32m      4\u001b[0m     \u001b[0;32mfor\u001b[0m \u001b[0mexon_number\u001b[0m\u001b[0;34m,\u001b[0m \u001b[0mpos\u001b[0m \u001b[0;32min\u001b[0m \u001b[0mexons\u001b[0m\u001b[0;34m.\u001b[0m\u001b[0mitems\u001b[0m\u001b[0;34m(\u001b[0m\u001b[0;34m)\u001b[0m\u001b[0;34m:\u001b[0m\u001b[0;34m\u001b[0m\u001b[0;34m\u001b[0m\u001b[0m\n\u001b[1;32m      5\u001b[0m         \u001b[0mprint\u001b[0m\u001b[0;34m(\u001b[0m\u001b[0;34mf\"  Exon {exon_number}: {pos}\"\u001b[0m\u001b[0;34m)\u001b[0m\u001b[0;34m\u001b[0m\u001b[0;34m\u001b[0m\u001b[0m\n",
      "\u001b[0;31mNameError\u001b[0m: name 'Gene_pos' is not defined"
     ]
    }
   ],
   "source": [
    "# 输出 Gene_pos 的前几个键值对\n",
    "for gene_name, exons in list(Gene_pos.items())[:2]:\n",
    "    print(f\"Gene: {gene_name}\")\n",
    "    for exon_number, pos in exons.items():\n",
    "        print(f\"  Exon {exon_number}: {pos}\")\n",
    "    print(\"\\n\")"
   ]
  },
  {
   "cell_type": "code",
   "execution_count": 29,
   "id": "2b29e5d0-ae5c-4f7d-a73d-005fe3868792",
   "metadata": {},
   "outputs": [
    {
     "name": "stdout",
     "output_type": "stream",
     "text": [
      "4822\n",
      "19485\n",
      "4536\n"
     ]
    }
   ],
   "source": [
    "# 查看rMats结果的可变剪接数据情况\n",
    "rMatgene = rMats_results['geneSymbol'].unique()\n",
    "genes_in_dict = list(Gene_dict_fil.keys())\n",
    "intersection = np.intersect1d(rMatgene, genes_in_dict)  # 交集\n",
    "print(len(rMatgene))\n",
    "print(len(genes_in_dict))\n",
    "print(len(intersection))"
   ]
  },
  {
   "cell_type": "code",
   "execution_count": 33,
   "id": "fa6d7201-43bd-4b6d-9286-2b52adbaf15d",
   "metadata": {},
   "outputs": [
    {
     "name": "stdout",
     "output_type": "stream",
     "text": [
      "Gene ID: CLCN7\n",
      "CDS: ['-', '16_CDS_1474834_1474974_-_1', '16_startcodon_1474972_1474974_-_1', '16_CDS_1465267_1465338_-_2', '16_CDS_1461603_1461674_-_3', '16_CDS_1461405_1461470_-_4', '16_CDS_1460816_1460948_-_5', '16_CDS_1460418_1460527_-_6', '16_CDS_1459107_1459187_-_7', '16_CDS_1457694_1457756_-_8', '16_CDS_1457254_1457337_-_9', '16_CDS_1456113_1456206_-_10', '16_CDS_1455731_1455795_-_11', '16_CDS_1455134_1455250_-_12', '16_CDS_1454411_1454465_-_13', '16_CDS_1453834_1453894_-_14', '16_CDS_1452755_1452893_-_15', '16_CDS_1451623_1451716_-_16', '16_CDS_1450497_1450666_-_17', '16_CDS_1449276_1449327_-_18', '16_CDS_1448966_1449093_-_19', '16_CDS_1448681_1448766_-_20', '16_CDS_1448355_1448484_-_21', '16_CDS_1447655_1447714_-_22', '16_CDS_1447392_1447568_-_23', '16_CDS_1447006_1447086_-_24', '16_CDS_1446634_1446717_-_25', '16_stopcodon_1446631_1446633_-_25']\n",
      "16_CDS_1474834_1474974_-_1: ['16', 1474834, 1474974]\n",
      "16_startcodon_1474972_1474974_-_1: ['16', 1474972, 1474974]\n",
      "16_CDS_1465267_1465338_-_2: ['16', 1465267, 1465338]\n",
      "16_CDS_1461603_1461674_-_3: ['16', 1461603, 1461674]\n",
      "16_CDS_1461405_1461470_-_4: ['16', 1461405, 1461470]\n",
      "16_CDS_1460816_1460948_-_5: ['16', 1460816, 1460948]\n",
      "16_CDS_1460418_1460527_-_6: ['16', 1460418, 1460527]\n",
      "16_CDS_1459107_1459187_-_7: ['16', 1459107, 1459187]\n",
      "16_CDS_1457694_1457756_-_8: ['16', 1457694, 1457756]\n",
      "16_CDS_1457254_1457337_-_9: ['16', 1457254, 1457337]\n",
      "16_CDS_1456113_1456206_-_10: ['16', 1456113, 1456206]\n",
      "16_CDS_1455731_1455795_-_11: ['16', 1455731, 1455795]\n",
      "16_CDS_1455134_1455250_-_12: ['16', 1455134, 1455250]\n",
      "16_CDS_1454411_1454465_-_13: ['16', 1454411, 1454465]\n",
      "16_CDS_1453834_1453894_-_14: ['16', 1453834, 1453894]\n",
      "16_CDS_1452755_1452893_-_15: ['16', 1452755, 1452893]\n",
      "16_CDS_1451623_1451716_-_16: ['16', 1451623, 1451716]\n",
      "16_CDS_1450497_1450666_-_17: ['16', 1450497, 1450666]\n",
      "16_CDS_1449276_1449327_-_18: ['16', 1449276, 1449327]\n",
      "16_CDS_1448966_1449093_-_19: ['16', 1448966, 1449093]\n",
      "16_CDS_1448681_1448766_-_20: ['16', 1448681, 1448766]\n",
      "16_CDS_1448355_1448484_-_21: ['16', 1448355, 1448484]\n",
      "16_CDS_1447655_1447714_-_22: ['16', 1447655, 1447714]\n",
      "16_CDS_1447392_1447568_-_23: ['16', 1447392, 1447568]\n",
      "16_CDS_1447006_1447086_-_24: ['16', 1447006, 1447086]\n",
      "16_CDS_1446634_1446717_-_25: ['16', 1446634, 1446717]\n",
      "16_stopcodon_1446631_1446633_-_25: ['16', 1446631, 1446633]\n",
      "Rid: ENST00000382745\n"
     ]
    }
   ],
   "source": [
    "gene_data = Max_Gene_dict.get(\"CLCN7\")\n",
    "print(\"Gene ID:\", \"CLCN7\")\n",
    "for key, value in gene_data.items():\n",
    "    print(f\"{key}: {value}\")"
   ]
  },
  {
   "cell_type": "code",
   "execution_count": 34,
   "id": "d5a715b4-7d84-4df8-9cd7-a95722ce4a42",
   "metadata": {},
   "outputs": [
    {
     "name": "stdout",
     "output_type": "stream",
     "text": [
      "[(49606155, 49606218)]\n"
     ]
    },
    {
     "data": {
      "text/plain": [
       "list"
      ]
     },
     "execution_count": 34,
     "metadata": {},
     "output_type": "execute_result"
    }
   ],
   "source": [
    "gene = \"FAM227B\"\n",
    "AS_type = 'SE'\n",
    "filt_data = rMats_results[(rMats_results['geneSymbol'] == gene) & (rMats_results['splicing_type'] == AS_type)].iloc[1]\n",
    "drop_pos = filt_data[['exonStart_0base', 'exonEnd']].tolist()\n",
    "drop_pos = [(int(drop_pos[0]), int(drop_pos[1]))]  # 转换为包含一个元组的列表\n",
    "print(drop_pos)\n",
    "type(drop_pos)"
   ]
  },
  {
   "cell_type": "code",
   "execution_count": 116,
   "id": "4b5b4e9e-7254-4dc1-bc79-510d5c2f9eed",
   "metadata": {},
   "outputs": [
    {
     "data": {
      "text/plain": [
       "(8467, 27)"
      ]
     },
     "execution_count": 116,
     "metadata": {},
     "output_type": "execute_result"
    }
   ],
   "source": [
    "# 读取rMats结果\n",
    "rMats_results = pd.read_csv(\"/home/chenweiming/mon_renw/xiaozhi233/data/rMAts_results.csv\")\n",
    "# 筛选显著的可变剪接事件\n",
    "rMats_results = rMats_results[(rMats_results['FDR'] < 0.05) & \n",
    "                              (rMats_results['IncLevelDifference'] < -0.1)]\n",
    "\n",
    "rMats_results.shape"
   ]
  },
  {
   "cell_type": "code",
   "execution_count": 36,
   "id": "3d923927-a0b4-47c5-bd18-bb1325b3d8ac",
   "metadata": {},
   "outputs": [
    {
     "name": "stdout",
     "output_type": "stream",
     "text": [
      "8388\n",
      "MEEGGRDKAPVQPQQSPAAAPGGTDEKPSGKERRDAGDKDKEQELSEEDKQLQDELEMLVERLGEKDTSLYRPALEELRRQIRSSTTSMTSVPKPLKFLRPHYGKLKEIYENMAPGENKRFAADIISVLAMTMSGERECLKYRLVGSQEELASWGHEYVRHLAGEVAKEWQELDDAEKVQREPLLTLVKEIVPYNMAHNAEHEACDLLMEIEQVDMLEKDIDENAYAKVCLYLTSCVNYVPEPENSALLRCALGVFRKFSRFPEALRLALMLNDMELVEDIFTSCKDVVVQKQMAFMLGRHGVFLELSEDVEEYEDLTEIMSNVQLNSNFLALARELDIMEPKVPDDIYKTHLENNRFGGSGSQVDSARMNLASSFVNGFVNAAFGQDKLLTDDGNKWLYKNKDHGMLSAAASLGMILLWDVDGGLTQIDKYLYSSEDYIKSGALLACGIVNSGVRNECDPALALLSDYVLHNSNTMRLGSIFGLGLAYAGSNREDVLTLLLPVMGDSKSSMEVAGVTALACGMIAVGSCNGDVTSTILQTIMEKSETELKDTYARWLPLGLGLNHLGKGEAIEAILAALEVVSEPFRSFANTLVDVCAYAGSGNVLKVQQLLHICSEHFDSKEKEEDKDKKEKKDKDKKEAPADMGAHQGVAVLGIALIAMGEEIGAEMALRTFGHLLRYGEPTLRRAVPLALALISVSNPRLNILDTLSKFSHDADPEVSYNSIFAMGMVGSGTNNARLAAMLRQLAQYHAKDPNNLFMVRLAQGLTHLGKGTLTLCPYHSDRQLMSQVAVAGLLTVLVSFLDVRNIILGKSHYVLYGLVAAMQPRMLVTFDEELRPLPVSVRVGQAVDVVGQAGKPKTITGFQTHTTPVLLAHGERAELATEEFLPVTPILEGFVILRKNPNYDL\n"
     ]
    }
   ],
   "source": [
    "i = 8388\n",
    "row_data = rMats_results.iloc[i]\n",
    "geneSymbol = row_data['geneSymbol']\n",
    "AS_event_ID = row_data['ID']\n",
    "AS_type = row_data['splicing_type']\n",
    "GeneID = row_data['GeneID']\n",
    "FDR = row_data['FDR']\n",
    "IncLevelDifference = row_data['IncLevelDifference']\n",
    "\n",
    "tranid, Ref_dna, Mutation_dna, Ref_aa, Mutation_aa = Merge(Max_Gene_dict, row_data)\n",
    "print(i)\n",
    "print(Mutation_aa)\n",
    "# 写入文件\n",
    "#print(AS_event_ID, '\\n', AS_type, '\\n', GeneID, '\\n', geneSymbol, '\\n', str(FDR), '\\n', str(IncLevelDifference), '\\n', \n",
    "#         Ref_dna, '\\n', Mutation_dna, '\\n', Ref_aa, '\\n', Mutation_aa)\n"
   ]
  },
  {
   "cell_type": "code",
   "execution_count": 86,
   "id": "0cad602d-475a-4156-bd03-34de5b54d85a",
   "metadata": {},
   "outputs": [],
   "source": [
    "i = 1388\n",
    "row_data = rMats_results.iloc[i]\n",
    "# 获取基因的转录本ID\n",
    "gene = row_data['geneSymbol']\n",
    "Rid = Max_Gene_dict[gene]['Rid']\n",
    "# 剪接类型\n",
    "AS_type = row_data['splicing_type']\n",
    "# 获取两个互斥外显子的位置列表\n",
    "alt_pos1 = [(int(x), int(y)) for x, y in [row_data[['1stExonStart_0base', '1stExonEnd']].tolist()]]\n",
    "alt_pos2 = [(int(x), int(y)) for x, y in [row_data[['2ndExonStart_0base', '2ndExonEnd']].tolist()]]\n",
    "\n",
    "# 获取参考外显子的位置列表\n",
    "ref_pos = [Max_Gene_dict[gene][eachexon][1:] for eachexon in Max_Gene_dict[gene]['CDS'][1:]]\n",
    "# 获取链方向、染色体名称\n",
    "stand = Max_Gene_dict[gene]['CDS'][0]\n",
    "chr = Max_Gene_dict[gene][Max_Gene_dict[gene]['CDS'][1]][0]\n",
    "# 计算互斥外显子的全集位置\n",
    "All_dna = Cal_pos(ref_pos, alt_pos1 + alt_pos2, '+')\n",
    "# 计算两个互斥外显子的突变DNA序列\n",
    "Mutation1_dna = ''.join([GetSeq(hg38_dict, chr, eachpos) for eachpos in Cal_pos(All_dna, alt_pos1, '-')])\n",
    "Mutation2_dna = ''.join([GetSeq(hg38_dict, chr, eachpos) for eachpos in Cal_pos(All_dna, alt_pos2, '-')])\n",
    "\n",
    "# 确保 DNA 序列长度为三的倍数，或者添加一个终止密码子\n",
    "if len(Mutation1_dna) % 3 != 0:\n",
    "    #Mutation1_dna = Mutation1_dna[:-(len(Mutation1_dna) % 3)]  # 截断为三的倍数长度\n",
    "    Mutation1_dna += 'N' * (3 - len(Mutation1_dna) % 3)  # 或者：添加终止密码子\n",
    "if len(Mutation2_dna) % 3 != 0:\n",
    "    #Mutation2_dna = Mutation2_dna[:-(len(Mutation2_dna) % 3)]  # 截断为三的倍数长度\n",
    "    Mutation2_dna += 'N' * (3 - len(Mutation2_dna) % 3)  # 或者：添加终止密码子\n",
    "\n",
    "# 根据链方向翻译两个互斥外显子的突变DNA序列为蛋白质序列\n",
    "Mutation1_aa = Translate(Mutation1_dna, stand)\n",
    "Mutation2_aa = Translate(Mutation2_dna, stand)\n",
    "#print(AS_event_ID, '\\n', AS_type, '\\n', GeneID, '\\n', geneSymbol, '\\n', str(FDR), '\\n', str(IncLevelDifference), '\\n', Rid, '\\n',\n",
    "#         Mutation1_dna, '\\n', Mutation2_dna, '\\n', Mutation1_aa, '\\n', Mutation1_aa)"
   ]
  },
  {
   "cell_type": "code",
   "execution_count": 24,
   "id": "54cfadc9-17d9-4013-8bfe-c1a70ef42ecd",
   "metadata": {},
   "outputs": [
    {
     "name": "stdout",
     "output_type": "stream",
     "text": [
      "(7908, 9)\n",
      "------------------总体-----------------------\n",
      "Different    4899\n",
      "Same         3009\n",
      "Name: CDS_same, dtype: int64\n",
      "------------------分类型-----------------------\n",
      "AS_type  CDS_same \n",
      "A3SS     Different      56\n",
      "         Same          492\n",
      "A5SS     Different     307\n",
      "         Same          203\n",
      "MXE      Different    3500\n",
      "         Same          719\n",
      "RI       Different     625\n",
      "         Same          861\n",
      "SE       Different     411\n",
      "         Same          734\n",
      "dtype: int64\n",
      "DataFrame has been saved to /data3/lishuhan/30GSE_health_SRR/v3AS/v2_old_you/file/DASEs_Peptides_anno.csv\n"
     ]
    }
   ],
   "source": [
    "# 统计突变情况\n",
    "output_file_path = '/data3/lishuhan/30GSE_health_SRR/v3AS/v2_old_you/file/DASEs_Peptides_anno.csv'\n",
    "DASEs_Peptides_anno = pd.read_csv(fafile2, sep='\\t')\n",
    "print(DASEs_Peptides_anno.shape)\n",
    "print(\"------------------总体-----------------------\")\n",
    "print(DASEs_Peptides_anno[\"CDS_same\"].value_counts())\n",
    "print(\"------------------分类型-----------------------\")\n",
    "counts = DASEs_Peptides_anno.groupby(['AS_type', 'CDS_same']).size()\n",
    "print(counts)\n",
    "DASEs_Peptides_anno.to_csv(output_file_path, sep=',', index=False)\n",
    "print(f\"DataFrame has been saved to {output_file_path}\")"
   ]
  },
  {
   "cell_type": "code",
   "execution_count": 24,
   "id": "28a6eb79-7dda-4966-8d0c-49688988a1b7",
   "metadata": {},
   "outputs": [
    {
     "data": {
      "text/html": [
       "<div>\n",
       "<style scoped>\n",
       "    .dataframe tbody tr th:only-of-type {\n",
       "        vertical-align: middle;\n",
       "    }\n",
       "\n",
       "    .dataframe tbody tr th {\n",
       "        vertical-align: top;\n",
       "    }\n",
       "\n",
       "    .dataframe thead th {\n",
       "        text-align: right;\n",
       "    }\n",
       "</style>\n",
       "<table border=\"1\" class=\"dataframe\">\n",
       "  <thead>\n",
       "    <tr style=\"text-align: right;\">\n",
       "      <th></th>\n",
       "      <th>AS_event_ID</th>\n",
       "      <th>AS_type</th>\n",
       "      <th>GeneID</th>\n",
       "      <th>geneSymbol</th>\n",
       "      <th>tranid</th>\n",
       "      <th>FDR</th>\n",
       "      <th>IncLevelDifference</th>\n",
       "      <th>CDS_same</th>\n",
       "      <th>dif_cut_seq</th>\n",
       "    </tr>\n",
       "  </thead>\n",
       "  <tbody>\n",
       "    <tr>\n",
       "      <th>0</th>\n",
       "      <td>SE_279</td>\n",
       "      <td>SE</td>\n",
       "      <td>ENSG00000160194</td>\n",
       "      <td>NDUFV3</td>\n",
       "      <td>ENST00000354250</td>\n",
       "      <td>0.013306</td>\n",
       "      <td>0.115</td>\n",
       "      <td>Different</td>\n",
       "      <td>GSDSEARQV,SSSSDSESD,QKVLSPFRK,EEFLKQSLK,DKESQK...</td>\n",
       "    </tr>\n",
       "    <tr>\n",
       "      <th>1</th>\n",
       "      <td>SE_424</td>\n",
       "      <td>SE</td>\n",
       "      <td>ENSG00000241837</td>\n",
       "      <td>ATP5O</td>\n",
       "      <td>ENST00000354250</td>\n",
       "      <td>0.004938</td>\n",
       "      <td>0.360</td>\n",
       "      <td>Different</td>\n",
       "      <td>NaN</td>\n",
       "    </tr>\n",
       "    <tr>\n",
       "      <th>2</th>\n",
       "      <td>SE_603</td>\n",
       "      <td>SE</td>\n",
       "      <td>ENSG00000154642</td>\n",
       "      <td>C21orf91</td>\n",
       "      <td>ENST00000290299</td>\n",
       "      <td>0.001135</td>\n",
       "      <td>1.000</td>\n",
       "      <td>Same</td>\n",
       "      <td>NaN</td>\n",
       "    </tr>\n",
       "    <tr>\n",
       "      <th>3</th>\n",
       "      <td>SE_688</td>\n",
       "      <td>SE</td>\n",
       "      <td>ENSG00000275895</td>\n",
       "      <td>U2AF1L5</td>\n",
       "      <td>ENST00000400558</td>\n",
       "      <td>0.000022</td>\n",
       "      <td>0.113</td>\n",
       "      <td>Same</td>\n",
       "      <td>LIQNIYRNP,PTFSQTILI,PQNSAQTAD,TADGSHYHC,AQTADG...</td>\n",
       "    </tr>\n",
       "    <tr>\n",
       "      <th>4</th>\n",
       "      <td>SE_754</td>\n",
       "      <td>SE</td>\n",
       "      <td>ENSG00000100239</td>\n",
       "      <td>PPP6R2</td>\n",
       "      <td>ENST00000620065</td>\n",
       "      <td>0.000184</td>\n",
       "      <td>0.306</td>\n",
       "      <td>Different</td>\n",
       "      <td>NaN</td>\n",
       "    </tr>\n",
       "  </tbody>\n",
       "</table>\n",
       "</div>"
      ],
      "text/plain": [
       "  AS_event_ID AS_type           GeneID geneSymbol           tranid       FDR  \\\n",
       "0      SE_279      SE  ENSG00000160194     NDUFV3  ENST00000354250  0.013306   \n",
       "1      SE_424      SE  ENSG00000241837      ATP5O  ENST00000354250  0.004938   \n",
       "2      SE_603      SE  ENSG00000154642   C21orf91  ENST00000290299  0.001135   \n",
       "3      SE_688      SE  ENSG00000275895    U2AF1L5  ENST00000400558  0.000022   \n",
       "4      SE_754      SE  ENSG00000100239     PPP6R2  ENST00000620065  0.000184   \n",
       "\n",
       "   IncLevelDifference   CDS_same  \\\n",
       "0               0.115  Different   \n",
       "1               0.360  Different   \n",
       "2               1.000       Same   \n",
       "3               0.113       Same   \n",
       "4               0.306  Different   \n",
       "\n",
       "                                         dif_cut_seq  \n",
       "0  GSDSEARQV,SSSSDSESD,QKVLSPFRK,EEFLKQSLK,DKESQK...  \n",
       "1                                                NaN  \n",
       "2                                                NaN  \n",
       "3  LIQNIYRNP,PTFSQTILI,PQNSAQTAD,TADGSHYHC,AQTADG...  \n",
       "4                                                NaN  "
      ]
     },
     "execution_count": 24,
     "metadata": {},
     "output_type": "execute_result"
    }
   ],
   "source": [
    "DASEs_Peptides_anno.head()"
   ]
  },
  {
   "cell_type": "code",
   "execution_count": 3,
   "id": "0be55790",
   "metadata": {},
   "outputs": [],
   "source": [
    "df = pd.read_csv(\"/data3/lishuhan/30GSE_health_SRR/v3AS/v2_old_you/file/DASEs_Peptides_anno.csv\")"
   ]
  },
  {
   "cell_type": "code",
   "execution_count": 4,
   "id": "ca7b2d64",
   "metadata": {},
   "outputs": [
    {
     "data": {
      "text/html": [
       "<div>\n",
       "<style scoped>\n",
       "    .dataframe tbody tr th:only-of-type {\n",
       "        vertical-align: middle;\n",
       "    }\n",
       "\n",
       "    .dataframe tbody tr th {\n",
       "        vertical-align: top;\n",
       "    }\n",
       "\n",
       "    .dataframe thead th {\n",
       "        text-align: right;\n",
       "    }\n",
       "</style>\n",
       "<table border=\"1\" class=\"dataframe\">\n",
       "  <thead>\n",
       "    <tr style=\"text-align: right;\">\n",
       "      <th></th>\n",
       "      <th>AS_event_ID</th>\n",
       "      <th>AS_type</th>\n",
       "      <th>GeneID</th>\n",
       "      <th>geneSymbol</th>\n",
       "      <th>tranid</th>\n",
       "      <th>FDR</th>\n",
       "      <th>IncLevelDifference</th>\n",
       "      <th>CDS_same</th>\n",
       "      <th>dif_cut_seq</th>\n",
       "    </tr>\n",
       "  </thead>\n",
       "  <tbody>\n",
       "    <tr>\n",
       "      <th>0</th>\n",
       "      <td>279</td>\n",
       "      <td>SE</td>\n",
       "      <td>ENSG00000160194</td>\n",
       "      <td>NDUFV3</td>\n",
       "      <td>ENST00000354250</td>\n",
       "      <td>0.013306</td>\n",
       "      <td>0.115</td>\n",
       "      <td>Different</td>\n",
       "      <td>PVHTKSGLS,APPLPRKET,KGPLPVHTK,RVTVSAKEK,LSAPPK...</td>\n",
       "    </tr>\n",
       "    <tr>\n",
       "      <th>1</th>\n",
       "      <td>424</td>\n",
       "      <td>SE</td>\n",
       "      <td>ENSG00000241837</td>\n",
       "      <td>ATP5O</td>\n",
       "      <td>ENST00000290299</td>\n",
       "      <td>0.004938</td>\n",
       "      <td>0.360</td>\n",
       "      <td>Same</td>\n",
       "      <td>NaN</td>\n",
       "    </tr>\n",
       "    <tr>\n",
       "      <th>2</th>\n",
       "      <td>603</td>\n",
       "      <td>SE</td>\n",
       "      <td>ENSG00000154642</td>\n",
       "      <td>C21orf91</td>\n",
       "      <td>ENST00000400558</td>\n",
       "      <td>0.001135</td>\n",
       "      <td>1.000</td>\n",
       "      <td>Same</td>\n",
       "      <td>NaN</td>\n",
       "    </tr>\n",
       "    <tr>\n",
       "      <th>3</th>\n",
       "      <td>688</td>\n",
       "      <td>SE</td>\n",
       "      <td>ENSG00000275895</td>\n",
       "      <td>U2AF1L5</td>\n",
       "      <td>ENST00000620065</td>\n",
       "      <td>0.000022</td>\n",
       "      <td>0.113</td>\n",
       "      <td>Different</td>\n",
       "      <td>TADGSHYHC,TILIQNIYR,SHYHCPLEH,HYHCPLEHL,ADGSHY...</td>\n",
       "    </tr>\n",
       "    <tr>\n",
       "      <th>4</th>\n",
       "      <td>754</td>\n",
       "      <td>SE</td>\n",
       "      <td>ENSG00000100239</td>\n",
       "      <td>PPP6R2</td>\n",
       "      <td>ENST00000216061</td>\n",
       "      <td>0.000184</td>\n",
       "      <td>0.306</td>\n",
       "      <td>Same</td>\n",
       "      <td>NaN</td>\n",
       "    </tr>\n",
       "  </tbody>\n",
       "</table>\n",
       "</div>"
      ],
      "text/plain": [
       "   AS_event_ID AS_type           GeneID geneSymbol           tranid       FDR  \\\n",
       "0          279      SE  ENSG00000160194     NDUFV3  ENST00000354250  0.013306   \n",
       "1          424      SE  ENSG00000241837      ATP5O  ENST00000290299  0.004938   \n",
       "2          603      SE  ENSG00000154642   C21orf91  ENST00000400558  0.001135   \n",
       "3          688      SE  ENSG00000275895    U2AF1L5  ENST00000620065  0.000022   \n",
       "4          754      SE  ENSG00000100239     PPP6R2  ENST00000216061  0.000184   \n",
       "\n",
       "   IncLevelDifference   CDS_same  \\\n",
       "0               0.115  Different   \n",
       "1               0.360       Same   \n",
       "2               1.000       Same   \n",
       "3               0.113  Different   \n",
       "4               0.306       Same   \n",
       "\n",
       "                                         dif_cut_seq  \n",
       "0  PVHTKSGLS,APPLPRKET,KGPLPVHTK,RVTVSAKEK,LSAPPK...  \n",
       "1                                                NaN  \n",
       "2                                                NaN  \n",
       "3  TADGSHYHC,TILIQNIYR,SHYHCPLEH,HYHCPLEHL,ADGSHY...  \n",
       "4                                                NaN  "
      ]
     },
     "execution_count": 4,
     "metadata": {},
     "output_type": "execute_result"
    }
   ],
   "source": [
    "df.head()"
   ]
  },
  {
   "cell_type": "code",
   "execution_count": 226,
   "id": "dfae56f2-ae61-4171-ad9a-bc5911721841",
   "metadata": {},
   "outputs": [
    {
     "name": "stdout",
     "output_type": "stream",
     "text": [
      "36053589\n"
     ]
    },
    {
     "data": {
      "text/plain": [
       "36058888"
      ]
     },
     "execution_count": 226,
     "metadata": {},
     "output_type": "execute_result"
    }
   ],
   "source": [
    "print(min(Cal_pos(ref_pos, [[1, 2]], 'xx')))\n",
    "max(Cal_pos(ref_pos, [[1, 2]], 'xx'))"
   ]
  },
  {
   "cell_type": "code",
   "execution_count": 42,
   "id": "0ca39603-9949-4bdf-acc1-f020ccf3c922",
   "metadata": {},
   "outputs": [],
   "source": [
    "gene = geneSymbol"
   ]
  },
  {
   "cell_type": "code",
   "execution_count": 43,
   "id": "a51b0cb9-9bf0-4b2d-9e95-e25a7129137a",
   "metadata": {},
   "outputs": [
    {
     "data": {
      "text/plain": [
       "[(45480466, 45480520)]"
      ]
     },
     "execution_count": 43,
     "metadata": {},
     "output_type": "execute_result"
    }
   ],
   "source": [
    "alt_pos1 = [(int(x), int(y)) for x, y in [row_data[['2ndExonStart_0base', '2ndExonEnd']].tolist()]]\n",
    "\n",
    "alt_pos1"
   ]
  },
  {
   "cell_type": "code",
   "execution_count": 44,
   "id": "2db39610-adcf-4f55-a5b2-ae08e3c0d3f1",
   "metadata": {},
   "outputs": [
    {
     "name": "stdout",
     "output_type": "stream",
     "text": [
      "MXE_28 \n",
      " MXE \n",
      " ENSG00000182871 \n",
      " COL18A1 \n",
      " 7.657053864909363e-15 \n",
      " -0.174 \n",
      " AtggcgccgagGTGCCCCTGGCCATGGCCGCGGCGGCGGCGCCTCCTGGACGTGCTCGCGCCCCTGGTCCTGCTGCTCGGGGTCCGCGCGGCCTCCGCGGAGCCAGAGCGCATCAGCGAGGAGGTGGGGCTGCTGCAGCTCCTTGGGGACCCCCCGCCCCAGCAGGTCACCCAGACGGATGACCCCGACGTCGGGCTGGCCTACGTCTTTGGGCCAGATGCCAACAGTGGCCAAGTGGCCCGGTACCACTTCCCCAGCCTCTTCTTCCGTGACTTCTCACTGCTGTTCCACATCCGGCCAGCCACAGAGGGCCCAGGGGTGCTGTTCGCCATCACGGACTCGGCGCAGGCCATGGTCTTGCTGGGCGTGAAGCTCTCTGGGGTGCAGGACGGGCACCAGGACATCTCCCTGCTCTACACAGAACCAGGTGCAGGCCAGACCCACACAGCCGCCAGCTTCCGGCTCCCCGCCTTCGTCGGCCAGTGGACACACTTAGCCCTCAGTGTGGCAGGTGGCTTTGTGGCCCTCTACGTGGACTGTGAGGAGTTCCAGAGAATGCCGCTTGCTCGGTCCTCACGGGGCCTGGAGCTGGAGCCTGGCGCCGGGCTCTTCGTGGCTCAGGCGGGGGGAGCGGACCCTGACAAGTTCCAGGGGGTGATCGCTGAGCTGAAGGTGCGCAGGGACCCCCAGGTGAGCCCCATGCACTGCCTGGACGAGGAAGGCGATGACTCAGATGGGGCATCCGGAGACTCTGGCAGCGGGCTCGGGGACGCCCGGGAGCTTCTCAGGGAGGAGACGGGCGCGGCCCTAAAACCCAGGCTCCCCGCGCCACCCCCCGTCACCACGCCACCCTTGGCTGGAGGCAGCAGCACGGAAGATTCCAGAAGTGAAGAAGTCGAGGAGCAGACCACGGTGGCTTCGTTAGGAGCTCAGACACTTCCTGGCTCAGATTCTGTCTCCACGTGGGACGGGAGTGTCCGGACCCCTGGGGGCCGCGTGAAAGAGGGCGGCCTGAAGGGGCAGAAAGGGGAGCCAGGTGTTCCGGGCCCACCTGGCCGGGCAGGCCCCCCAGGATCCCCATGCCTACCTGGTCCCCCGGGTCTCCCGTGCCCAGTGAGTCCCCTGGGTCCTGCAGGCCCAGCGTTGCAAACTGTCCCCGGACCACAAGGACCCCCAGGGCCTCCGGGGAGGGACGGCACCCCTGGAAGGGACGGCGAGCCGGGCGACCCCGGTGAAGACGGAAAGCCGGGCGACACCGGGCCACAAGGCTTCCCCGGGACTCCAGGGGACGTAGGTCCCAAGGGCGACAAGACCTTCATTGACATGGAGGGATCTGGCTTCGGGGGCGATCTGGAGGCCCTGCGGGGTCCTCGAGGCTTCCCTGGACCTCCCGGACCCCCCGGTGTCCCAGGCCTGCCCGGCGAGCCAGGCCGCTTTGGGGTGAACAGCTCCGACGTCCCAGGACCCGCCGGCCTTCCTGGTGTGCCTGGGCGCGAGGGTCCCCCCGGGTTTCCTGGCCTCCCGGGACCCCCAGGCCCTCCGGGAAGAGAGGGGCCCCCAGGAAGGACTGGGCAGAAAGGCAGCCTGGGTGAAGCAGGCGCCCCAGGACATAAGGGGAGCAAGGGAGCCCCCGGTCCTGCTGGTGCTCGTGGGGAGAGCGGCCTGGCAGGAGCCCCCGGACCTGCTGGACCACCAGGCCCCCCTGGGCCCCCTGGGCCCCCAGGACCAGGACTCCCCGCTGGATTTGATGACATGGAAGGCTCCGGGGGGCCCTTCTGGTCAACAGCCCGAAGCGCTGATGGGCCACAGGGACCTCCCGGCCTGCCGGGACTTAAGGGGGATCCTGGCGTGCCTGGGCTGCCGGGGGCGAAGGGAGAAGTTGGAGCAGATGGAGTCCCCGGGTTCCCCGGCCTCCCTGGCAGAGAGGGCATTGCTGGGCCCCAGGGGCCAAAGGGAGACAGAGGCAGCCGGGGAGAAAAGGGAGATCCAGGGAAGGACGGAGTCGGGCAGCCGGGCCTCCCTGGCCCCCCCGGACCCCCGGGACCTGTGGTCTACGTGTCGGAGCAGGACGGATCCGTCCTGAGCGTGCCGGGACCTGAGGGCCGGCCGGGTTTCGCAGGCTTTCCCGGACCTGCAGGACCCAAGGGCAACCTGGGCTCTAAGGGCGAACGAGGCTCCCCGGGACCCAAGGGTGAGAAGGGTGAACCGGGCAGCATCTTCAGCCCCGACGGCGGTGCCCTGGGCCCTGCCCAGAAAGGAGCCAAGGGAGAGCCGGGCTTCCGAGGACCCCCGGGTCCATACGGACGGCCGGGGTACAAGGGAGAGATTGGCTTTCCTGGACGGCCGGGTCGCCCCGGGATGAACGGATTGAAAGGAGAGAAAGGGGAGCCGGGAGATGCCAGCCTTGGATTTGGCATGAGGGGAATGCCCGGCCCCCCAGGACCTCCAGGGCCCCCAGGCCCTCCAGGGACTCCTGTTTACGACAGCAATGTGTTTGCTGAGTCCAGCCGCCCCGGGCCTCCAGGATTGCCAGGGAATCAGGGCCCTCCAGGACCCAAGGGCGCCAAAGGAGAAGTGGGCCCCCCCGGACCACCAGGGCAGTTTCCGTTTGACTTTCTTCAGTTGGAGGCTGAAATGAAGGGGGAGAAGGGAGACCGAGGTGATGCAGGACAGAAAGGCGAAAGGGGGGAGCCCGGGGGCGGCGGTTTCTTCGGCTCCAGCCTGCCCggcccccccggccccccaggccccccaggcccACGTGGCTACCCTGGGATTCCAGGTCCCAAGGGAGAGAGCATCCGGGGCCAGCCCGGCCCACCTGGACCTCAGGGACCCCCCGGCATCGGCTACGAGGGGCGCCAGGGCCCTCCCGGCCCCCCAGGCCCCCCAGGGCCCCCTTCATTTCCTGGCCCTCACAGGCAGACTATCAGCGTTCCCGGCCCTCCGGGCccccctgggccccctgggccccctggAACCATGGGCGCCTCCTCAGGGGTGAGGCTCTGGGCTACACGCCAGGCCATGCTGGGCCAGGTGCACGAGGTTCCCGAGGGCTGGCTCATCTTCGTGGCCGAGCAGGAGGAGCTCTACGTCCGCGTGCAGAACGGGTTCCGGAAGGTCCAGCTGGAGGCCCGGACACCACTCCCACGAGGGACGGACAATGAAGTGGCCGCCTTGCAGCCCCCCGTGGTGCAGCTGCACGACAGCAACCCCTACCCGCGGCGGGAGCACCCCCACCCCACCGCGCGGCCCTGGCGGGCAGATGACATCCTGGccagcccccctcgcctgcccgagccccagccctaccccggagccccgcaccaCAGCTCCTACGTGCACCTGCGGCCGGCGCGACCCACAAGCCCACCCGCCCACAGCCACCGCGACTTCCAGCCGGTGCTCCACCTGGTTGCGCTCAACAGCCCCCTGTCAGGCGGCATGCGGGGCATCCGCGGGGCCGACTTCCAGTGCTTCCAGCAGGCGCGGGCCGTGGGGCTGGCGGGCACCTTCCGCGCCTTCCTGTCCTCGCGCCTGCAGGACCTGTACAGCATCGTGCGCCGTGCCGACCGCGCAGCCGTGCCCATCGTCAACCTCAAGGACGAGCTGCTGTTTCCCAGCTGGGAGGCTCTGTTCTCAGGCTCTGAGGGTCCGCTGAAGCCCGGGGCACGCATCTTCTCCTTTGACGGCAAGGACGTCCTGAGGCACCCCACCTGGCCCCAGAAGAGCGTGTGGCATGGCTCGGACCCCAACGGGCGCAGGCTGACCGAGAGCTACTGTGAGACGTGGCGGACGGAGGCTCCCTCGGCCACGGGCCAGGCCTCCTCGCTGCTGGGGGGCAGGCTCCTGGGGCAGAGTGCCGCGAGCTGCCATCACGCCTACATCGTGCTCTGCATTGAGAACAGCTTCATGACTGCCTCCAAGTAG \n",
      " AtggcgccgagGTGCCCCTGGCCATGGCCGCGGCGGCGGCGCCTCCTGGACGTGCTCGCGCCCCTGGTCCTGCTGCTCGGGGTCCGCGCGGCCTCCGCGGAGCCAGAGCGCATCAGCGAGGAGGTGGGGCTGCTGCAGCTCCTTGGGGACCCCCCGCCCCAGCAGGTCACCCAGACGGATGACCCCGACGTCGGGCTGGCCTACGTCTTTGGGCCAGATGCCAACAGTGGCCAAGTGGCCCGGTACCACTTCCCCAGCCTCTTCTTCCGTGACTTCTCACTGCTGTTCCACATCCGGCCAGCCACAGAGGGCCCAGGGGTGCTGTTCGCCATCACGGACTCGGCGCAGGCCATGGTCTTGCTGGGCGTGAAGCTCTCTGGGGTGCAGGACGGGCACCAGGACATCTCCCTGCTCTACACAGAACCAGGTGCAGGCCAGACCCACACAGCCGCCAGCTTCCGGCTCCCCGCCTTCGTCGGCCAGTGGACACACTTAGCCCTCAGTGTGGCAGGTGGCTTTGTGGCCCTCTACGTGGACTGTGAGGAGTTCCAGAGAATGCCGCTTGCTCGGTCCTCACGGGGCCTGGAGCTGGAGCCTGGCGCCGGGCTCTTCGTGGCTCAGGCGGGGGGAGCGGACCCTGACAAGTTCCAGGGGGTGATCGCTGAGCTGAAGGTGCGCAGGGACCCCCAGGTGAGCCCCATGCACTGCCTGGACGAGGAAGGCGATGACTCAGATGGGGCATCCGGAGACTCTGGCAGCGGGCTCGGGGACGCCCGGGAGCTTCTCAGGGAGGAGACGGGCGCGGCCCTAAAACCCAGGCTCCCCGCGCCACCCCCCGTCACCACGCCACCCTTGGCTGGAGGCAGCAGCACGGAAGATTCCAGAAGTGAAGAAGTCGAGGAGCAGACCACGGTGGCTTCGTTAGGAGCTCAGACACTTCCTGGCTCAGATTCTGTCTCCACGTGGGACGGGAGTGTCCGGACCCCTGGGGGCCGCGTGAAAGAGGGCGGCCTGAAGGGGCAGAAAGGGGAGCCAGGTGTTCCGGGCCCACCTGGCCGGGCAGGCCCCCCAGGATCCCCATGCCTACCTGGTCCCCCGGGTCTCCCGTGCCCAGTGAGTCCCCTGGGTCCTGCAGGCCCAGCGTTGCAAACTGTCCCCGGACCACAAGGACCCCCAGGGCCTCCGGGGAGGGACGGCACCCCTGGAAGGGACGGCGAGCCGGGCGACCCCGGTGAAGACGGAAAGCCGGGCGACACCGGGCCACAAGGCTTCCCCGGGACTCCAGGGGACGTAGGTCCCAAGGGCGACAAGGGGAGACCCTGGGGTTGGAGAGAGagggcccccaggaccccaagggcctccagggcccccaggACCCTCCTTCAGACACGACAAGCTGGGTCCTCGAGGCTTCCCTGGACCTCCCGGACCCCCCGGTGTCCCAGGCCTGCCCGGCGAGCCAGGCCGCTTTGGGGTGAACAGCTCCGACGTCCCAGGACCCGCCGGCCTTCCTGGTGTGCCTGGGCGCGAGGGTCCCCCCGGGTTTCCTGGCCTCCCGGGACCCCCAGGCCCTCCGGGAAGAGAGGGGCCCCCAGGAAGGACTGGGCAGAAAGGCAGCCTGGGTGAAGCAGGCGCCCCAGGACATAAGGGGAGCAAGGGAGCCCCCGGTCCTGCTGGTGCTCGTGGGGAGAGCGGCCTGGCAGGAGCCCCCGGACCTGCTGGACCACCAGGCCCCCCTGGGCCCCCTGGGCCCCCAGGACCAGGACTCCCCGCTGGATTTGATGACATGGAAGGCTCCGGGGGGCCCTTCTGGTCAACAGCCCGAAGCGCTGATGGGCCACAGGGACCTCCCGGCCTGCCGGGACTTAAGGGGGATCCTGGCGTGCCTGGGCTGCCGGGGGCGAAGGGAGAAGTTGGAGCAGATGGAGTCCCCGGGTTCCCCGGCCTCCCTGGCAGAGAGGGCATTGCTGGGCCCCAGGGGCCAAAGGGAGACAGAGGCAGCCGGGGAGAAAAGGGAGATCCAGGGAAGGACGGAGTCGGGCAGCCGGGCCTCCCTGGCCCCCCCGGACCCCCGGGACCTGTGGTCTACGTGTCGGAGCAGGACGGATCCGTCCTGAGCGTGCCGGGACCTGAGGGCCGGCCGGGTTTCGCAGGCTTTCCCGGACCTGCAGGACCCAAGGGCAACCTGGGCTCTAAGGGCGAACGAGGCTCCCCGGGACCCAAGGGTGAGAAGGGTGAACCGGGCAGCATCTTCAGCCCCGACGGCGGTGCCCTGGGCCCTGCCCAGAAAGGAGCCAAGGGAGAGCCGGGCTTCCGAGGACCCCCGGGTCCATACGGACGGCCGGGGTACAAGGGAGAGATTGGCTTTCCTGGACGGCCGGGTCGCCCCGGGATGAACGGATTGAAAGGAGAGAAAGGGGAGCCGGGAGATGCCAGCCTTGGATTTGGCATGAGGGGAATGCCCGGCCCCCCAGGACCTCCAGGGCCCCCAGGCCCTCCAGGGACTCCTGTTTACGACAGCAATGTGTTTGCTGAGTCCAGCCGCCCCGGGCCTCCAGGATTGCCAGGGAATCAGGGCCCTCCAGGACCCAAGGGCGCCAAAGGAGAAGTGGGCCCCCCCGGACCACCAGGGCAGTTTCCGTTTGACTTTCTTCAGTTGGAGGCTGAAATGAAGGGGGAGAAGGGAGACCGAGGTGATGCAGGACAGAAAGGCGAAAGGGGGGAGCCCGGGGGCGGCGGTTTCTTCGGCTCCAGCCTGCCCggcccccccggccccccaggccccccaggcccACGTGGCTACCCTGGGATTCCAGGTCCCAAGGGAGAGAGCATCCGGGGCCAGCCCGGCCCACCTGGACCTCAGGGACCCCCCGGCATCGGCTACGAGGGGCGCCAGGGCCCTCCCGGCCCCCCAGGCCCCCCAGGGCCCCCTTCATTTCCTGGCCCTCACAGGCAGACTATCAGCGTTCCCGGCCCTCCGGGCccccctgggccccctgggccccctggAACCATGGGCGCCTCCTCAGGGGTGAGGCTCTGGGCTACACGCCAGGCCATGCTGGGCCAGGTGCACGAGGTTCCCGAGGGCTGGCTCATCTTCGTGGCCGAGCAGGAGGAGCTCTACGTCCGCGTGCAGAACGGGTTCCGGAAGGTCCAGCTGGAGGCCCGGACACCACTCCCACGAGGGACGGACAATGAAGTGGCCGCCTTGCAGCCCCCCGTGGTGCAGCTGCACGACAGCAACCCCTACCCGCGGCGGGAGCACCCCCACCCCACCGCGCGGCCCTGGCGGGCAGATGACATCCTGGccagcccccctcgcctgcccgagccccagccctaccccggagccccgcaccaCAGCTCCTACGTGCACCTGCGGCCGGCGCGACCCACAAGCCCACCCGCCCACAGCCACCGCGACTTCCAGCCGGTGCTCCACCTGGTTGCGCTCAACAGCCCCCTGTCAGGCGGCATGCGGGGCATCCGCGGGGCCGACTTCCAGTGCTTCCAGCAGGCGCGGGCCGTGGGGCTGGCGGGCACCTTCCGCGCCTTCCTGTCCTCGCGCCTGCAGGACCTGTACAGCATCGTGCGCCGTGCCGACCGCGCAGCCGTGCCCATCGTCAACCTCAAGGACGAGCTGCTGTTTCCCAGCTGGGAGGCTCTGTTCTCAGGCTCTGAGGGTCCGCTGAAGCCCGGGGCACGCATCTTCTCCTTTGACGGCAAGGACGTCCTGAGGCACCCCACCTGGCCCCAGAAGAGCGTGTGGCATGGCTCGGACCCCAACGGGCGCAGGCTGACCGAGAGCTACTGTGAGACGTGGCGGACGGAGGCTCCCTCGGCCACGGGCCAGGCCTCCTCGCTGCTGGGGGGCAGGCTCCTGGGGCAGAGTGCCGCGAGCTGCCATCACGCCTACATCGTGCTCTGCATTGAGAACAGCTTCATGACTGCCTCCAAGTAGNN \n",
      " MAPRCPWPWPRRRRLLDVLAPLVLLLGVRAASAEPERISEEVGLLQLLGDPPPQQVTQTDDPDVGLAYVFGPDANSGQVARYHFPSLFFRDFSLLFHIRPATEGPGVLFAITDSAQAMVLLGVKLSGVQDGHQDISLLYTEPGAGQTHTAASFRLPAFVGQWTHLALSVAGGFVALYVDCEEFQRMPLARSSRGLELEPGAGLFVAQAGGADPDKFQGVIAELKVRRDPQVSPMHCLDEEGDDSDGASGDSGSGLGDARELLREETGAALKPRLPAPPPVTTPPLAGGSSTEDSRSEEVEEQTTVASLGAQTLPGSDSVSTWDGSVRTPGGRVKEGGLKGQKGEPGVPGPPGRAGPPGSPCLPGPPGLPCPVSPLGPAGPALQTVPGPQGPPGPPGRDGTPGRDGEPGDPGEDGKPGDTGPQGFPGTPGDVGPKGDKTFIDMEGSGFGGDLEALRGPRGFPGPPGPPGVPGLPGEPGRFGVNSSDVPGPAGLPGVPGREGPPGFPGLPGPPGPPGREGPPGRTGQKGSLGEAGAPGHKGSKGAPGPAGARGESGLAGAPGPAGPPGPPGPPGPPGPGLPAGFDDMEGSGGPFWSTARSADGPQGPPGLPGLKGDPGVPGLPGAKGEVGADGVPGFPGLPGREGIAGPQGPKGDRGSRGEKGDPGKDGVGQPGLPGPPGPPGPVVYVSEQDGSVLSVPGPEGRPGFAGFPGPAGPKGNLGSKGERGSPGPKGEKGEPGSIFSPDGGALGPAQKGAKGEPGFRGPPGPYGRPGYKGEIGFPGRPGRPGMNGLKGEKGEPGDASLGFGMRGMPGPPGPPGPPGPPGTPVYDSNVFAESSRPGPPGLPGNQGPPGPKGAKGEVGPPGPPGQFPFDFLQLEAEMKGEKGDRGDAGQKGERGEPGGGGFFGSSLPGPPGPPGPPGPRGYPGIPGPKGESIRGQPGPPGPQGPPGIGYEGRQGPPGPPGPPGPPSFPGPHRQTISVPGPPGPPGPPGPPGTMGASSGVRLWATRQAMLGQVHEVPEGWLIFVAEQEELYVRVQNGFRKVQLEARTPLPRGTDNEVAALQPPVVQLHDSNPYPRREHPHPTARPWRADDILASPPRLPEPQPYPGAPHHSSYVHLRPARPTSPPAHSHRDFQPVLHLVALNSPLSGGMRGIRGADFQCFQQARAVGLAGTFRAFLSSRLQDLYSIVRRADRAAVPIVNLKDELLFPSWEALFSGSEGPLKPGARIFSFDGKDVLRHPTWPQKSVWHGSDPNGRRLTESYCETWRTEAPSATGQASSLLGGRLLGQSAASCHHAYIVLCIENSFMTASK \n",
      " MAPRCPWPWPRRRRLLDVLAPLVLLLGVRAASAEPERISEEVGLLQLLGDPPPQQVTQTDDPDVGLAYVFGPDANSGQVARYHFPSLFFRDFSLLFHIRPATEGPGVLFAITDSAQAMVLLGVKLSGVQDGHQDISLLYTEPGAGQTHTAASFRLPAFVGQWTHLALSVAGGFVALYVDCEEFQRMPLARSSRGLELEPGAGLFVAQAGGADPDKFQGVIAELKVRRDPQVSPMHCLDEEGDDSDGASGDSGSGLGDARELLREETGAALKPRLPAPPPVTTPPLAGGSSTEDSRSEEVEEQTTVASLGAQTLPGSDSVSTWDGSVRTPGGRVKEGGLKGQKGEPGVPGPPGRAGPPGSPCLPGPPGLPCPVSPLGPAGPALQTVPGPQGPPGPPGRDGTPGRDGEPGDPGEDGKPGDTGPQGFPGTPGDVGPKGDKTFIDMEGSGFGGDLEALRGPRGFPGPPGPPGVPGLPGEPGRFGVNSSDVPGPAGLPGVPGREGPPGFPGLPGPPGPPGREGPPGRTGQKGSLGEAGAPGHKGSKGAPGPAGARGESGLAGAPGPAGPPGPPGPPGPPGPGLPAGFDDMEGSGGPFWSTARSADGPQGPPGLPGLKGDPGVPGLPGAKGEVGADGVPGFPGLPGREGIAGPQGPKGDRGSRGEKGDPGKDGVGQPGLPGPPGPPGPVVYVSEQDGSVLSVPGPEGRPGFAGFPGPAGPKGNLGSKGERGSPGPKGEKGEPGSIFSPDGGALGPAQKGAKGEPGFRGPPGPYGRPGYKGEIGFPGRPGRPGMNGLKGEKGEPGDASLGFGMRGMPGPPGPPGPPGPPGTPVYDSNVFAESSRPGPPGLPGNQGPPGPKGAKGEVGPPGPPGQFPFDFLQLEAEMKGEKGDRGDAGQKGERGEPGGGGFFGSSLPGPPGPPGPPGPRGYPGIPGPKGESIRGQPGPPGPQGPPGIGYEGRQGPPGPPGPPGPPSFPGPHRQTISVPGPPGPPGPPGPPGTMGASSGVRLWATRQAMLGQVHEVPEGWLIFVAEQEELYVRVQNGFRKVQLEARTPLPRGTDNEVAALQPPVVQLHDSNPYPRREHPHPTARPWRADDILASPPRLPEPQPYPGAPHHSSYVHLRPARPTSPPAHSHRDFQPVLHLVALNSPLSGGMRGIRGADFQCFQQARAVGLAGTFRAFLSSRLQDLYSIVRRADRAAVPIVNLKDELLFPSWEALFSGSEGPLKPGARIFSFDGKDVLRHPTWPQKSVWHGSDPNGRRLTESYCETWRTEAPSATGQASSLLGGRLLGQSAASCHHAYIVLCIENSFMTASK\n"
     ]
    }
   ],
   "source": [
    "# 3.对于互斥的外显子（ME）的可变剪接事件类型：\n",
    "# elif type == 'MXE':\n",
    "# 获取两个互斥外显子的位置列表\n",
    "alt_pos1 = [(int(x), int(y)) for x, y in [row_data[['1stExonStart_0base', '1stExonEnd']].tolist()]]\n",
    "alt_pos2 = [(int(x), int(y)) for x, y in [row_data[['2ndExonStart_0base', '2ndExonEnd']].tolist()]]\n",
    "\n",
    "# 获取参考外显子的位置列表\n",
    "ref_pos = [Max_Gene_dict[gene][eachexon][1:] for eachexon in Max_Gene_dict[gene]['CDS'][1:]]\n",
    "# 获取链方向、染色体名称\n",
    "stand = Max_Gene_dict[gene]['CDS'][0]\n",
    "chr = Max_Gene_dict[gene][Max_Gene_dict[gene]['CDS'][1]][0]\n",
    "# 计算互斥外显子的全集位置\n",
    "All_dna = Cal_pos(ref_pos, alt_pos1 + alt_pos2, '+')\n",
    "# 计算两个互斥外显子的突变DNA序列\n",
    "Mutation1_dna = ''.join([GetSeq(hg38_dict, chr, eachpos) for eachpos in Cal_pos(All_dna, alt_pos1, '-')])\n",
    "Mutation2_dna = ''.join([GetSeq(hg38_dict, chr, eachpos) for eachpos in Cal_pos(All_dna, alt_pos2, '-')])\n",
    "\n",
    "# 确保 DNA 序列长度为三的倍数，或者添加一个终止密码子\n",
    "if len(Mutation1_dna) % 3 != 0:\n",
    "    #Mutation1_dna = Mutation1_dna[:-(len(Mutation1_dna) % 3)]  # 截断为三的倍数长度\n",
    "    Mutation1_dna += 'N' * (3 - len(Mutation1_dna) % 3)  # 或者：添加终止密码子\n",
    "if len(Mutation2_dna) % 3 != 0:\n",
    "    #Mutation2_dna = Mutation2_dna[:-(len(Mutation2_dna) % 3)]  # 截断为三的倍数长度\n",
    "    Mutation2_dna += 'N' * (3 - len(Mutation2_dna) % 3)  # 或者：添加终止密码子\n",
    "\n",
    "# 根据链方向翻译两个互斥外显子的突变DNA序列为蛋白质序列\n",
    "Mutation1_aa = Translate(Mutation1_dna, stand)\n",
    "Mutation2_aa = Translate(Mutation2_dna, stand)\n",
    "\n",
    "# return Rid, Rid, Mutation2_dna, Mutation1_dna, Mutation2_aa, Mutation1_aa, A\n",
    "\n",
    "# 写入文件\n",
    "print(AS_event_ID, '\\n', AS_type, '\\n', GeneID, '\\n', geneSymbol, '\\n', str(FDR), '\\n', str(IncLevelDifference), '\\n', \n",
    "         Mutation1_dna, '\\n', Mutation2_dna, '\\n', Mutation1_aa, '\\n', Mutation1_aa)"
   ]
  },
  {
   "cell_type": "code",
   "execution_count": 304,
   "id": "e554dbf2-7fd0-439b-90b4-a89fb0043a4d",
   "metadata": {},
   "outputs": [
    {
     "name": "stdout",
     "output_type": "stream",
     "text": [
      "3933\n"
     ]
    },
    {
     "data": {
      "text/plain": [
       "3967"
      ]
     },
     "execution_count": 304,
     "metadata": {},
     "output_type": "execute_result"
    }
   ],
   "source": [
    "# 获取两个突变DNA序列\n",
    "Mutation1_dna = ''.join([GetSeq(hg38_dict, chr, eachpos) for eachpos in Cal_pos(All_dna, alt_pos1, '-')])\n",
    "Mutation2_dna = ''.join([GetSeq(hg38_dict, chr, eachpos) for eachpos in Cal_pos(All_dna, alt_pos2, '-')])\n",
    "print(len(Mutation1_dna))\n",
    "len(Mutation2_dna)"
   ]
  },
  {
   "cell_type": "code",
   "execution_count": 314,
   "id": "23f5a6d5-1c67-4dd7-b6fe-848a97ff8578",
   "metadata": {},
   "outputs": [
    {
     "name": "stdout",
     "output_type": "stream",
     "text": [
      "3933\n"
     ]
    },
    {
     "data": {
      "text/plain": [
       "3969"
      ]
     },
     "execution_count": 314,
     "metadata": {},
     "output_type": "execute_result"
    }
   ],
   "source": [
    "# 获取两个突变DNA序列\n",
    "Mutation1_dna = ''.join([GetSeq(hg38_dict, chr, eachpos) for eachpos in Cal_pos(All_dna, alt_pos1, '-')])\n",
    "Mutation2_dna = ''.join([GetSeq(hg38_dict, chr, eachpos) for eachpos in Cal_pos(All_dna, alt_pos2, '-')])\n",
    "\n",
    "# 确保 DNA 序列长度为三的倍数，或者添加一个终止密码子\n",
    "if len(Mutation1_dna) % 3 != 0:\n",
    "    #Mutation1_dna = Mutation1_dna[:-(len(Mutation1_dna) % 3)]  # 截断为三的倍数长度\n",
    "    Mutation1_dna += 'N' * (3 - len(Mutation1_dna) % 3)  # 或者：添加终止密码子\n",
    "if len(Mutation2_dna) % 3 != 0:\n",
    "    #Mutation2_dna = Mutation2_dna[:-(len(Mutation2_dna) % 3)]  # 截断为三的倍数长度\n",
    "    Mutation2_dna += 'N' * (3 - len(Mutation2_dna) % 3)  # 或者：添加终止密码子\n",
    "\n",
    "# 翻译为蛋白质序列\n",
    "Mutation1_aa = Translate(Mutation1_dna, stand)\n",
    "Mutation2_aa = Translate(Mutation2_dna, stand)\n",
    "print(len(Mutation1_dna))\n",
    "len(Mutation2_dna)"
   ]
  },
  {
   "cell_type": "code",
   "execution_count": 307,
   "id": "6711a813-21d0-44b9-89a5-1bc4b8ad90b3",
   "metadata": {},
   "outputs": [
    {
     "data": {
      "text/plain": [
       "'AtggcgccgagGTGCCCCTGGCCATGGCCGCGGCGGCGGCGCCTCCTGGACGTGCTCGCGCCCCTGGTCCTGCTGCTCGGGGTCCGCGCGGCCTCCGCGGAGCCAGAGCGCATCAGCGAGGAGGTGGGGCTGCTGCAGCTCCTTGGGGACCCCCCGCCCCAGCAGGTCACCCAGACGGATGACCCCGACGTCGGGCTGGCCTACGTCTTTGGGCCAGATGCCAACAGTGGCCAAGTGGCCCGGTACCACTTCCCCAGCCTCTTCTTCCGTGACTTCTCACTGCTGTTCCACATCCGGCCAGCCACAGAGGGCCCAGGGGTGCTGTTCGCCATCACGGACTCGGCGCAGGCCATGGTCTTGCTGGGCGTGAAGCTCTCTGGGGTGCAGGACGGGCACCAGGACATCTCCCTGCTCTACACAGAACCAGGTGCAGGCCAGACCCACACAGCCGCCAGCTTCCGGCTCCCCGCCTTCGTCGGCCAGTGGACACACTTAGCCCTCAGTGTGGCAGGTGGCTTTGTGGCCCTCTACGTGGACTGTGAGGAGTTCCAGAGAATGCCGCTTGCTCGGTCCTCACGGGGCCTGGAGCTGGAGCCTGGCGCCGGGCTCTTCGTGGCTCAGGCGGGGGGAGCGGACCCTGACAAGTTCCAGGGGGTGATCGCTGAGCTGAAGGTGCGCAGGGACCCCCAGGTGAGCCCCATGCACTGCCTGGACGAGGAAGGCGATGACTCAGATGGGGCATCCGGAGACTCTGGCAGCGGGCTCGGGGACGCCCGGGAGCTTCTCAGGGAGGAGACGGGCGCGGCCCTAAAACCCAGGCTCCCCGCGCCACCCCCCGTCACCACGCCACCCTTGGCTGGAGGCAGCAGCACGGAAGATTCCAGAAGTGAAGAAGTCGAGGAGCAGACCACGGTGGCTTCGTTAGGAGCTCAGACACTTCCTGGCTCAGATTCTGTCTCCACGTGGGACGGGAGTGTCCGGACCCCTGGGGGCCGCGTGAAAGAGGGCGGCCTGAAGGGGCAGAAAGGGGAGCCAGGTGTTCCGGGCCCACCTGGCCGGGCAGGCCCCCCAGGATCCCCATGCCTACCTGGTCCCCCGGGTCTCCCGTGCCCAGTGAGTCCCCTGGGTCCTGCAGGCCCAGCGTTGCAAACTGTCCCCGGACCACAAGGACCCCCAGGGCCTCCGGGGAGGGACGGCACCCCTGGAAGGGACGGCGAGCCGGGCGACCCCGGTGAAGACGGAAAGCCGGGCGACACCGGGCCACAAGGCTTCCCCGGGACTCCAGGGGACGTAGGTCCCAAGGGCGACAAGGGGAGACCCTGGGGTTGGAGAGAGagggcccccaggaccccaagggcctccagggcccccaggACCCTCCTTCAGACACGACAAGCTGGGTCCTCGAGGCTTCCCTGGACCTCCCGGACCCCCCGGTGTCCCAGGCCTGCCCGGCGAGCCAGGCCGCTTTGGGGTGAACAGCTCCGACGTCCCAGGACCCGCCGGCCTTCCTGGTGTGCCTGGGCGCGAGGGTCCCCCCGGGTTTCCTGGCCTCCCGGGACCCCCAGGCCCTCCGGGAAGAGAGGGGCCCCCAGGAAGGACTGGGCAGAAAGGCAGCCTGGGTGAAGCAGGCGCCCCAGGACATAAGGGGAGCAAGGGAGCCCCCGGTCCTGCTGGTGCTCGTGGGGAGAGCGGCCTGGCAGGAGCCCCCGGACCTGCTGGACCACCAGGCCCCCCTGGGCCCCCTGGGCCCCCAGGACCAGGACTCCCCGCTGGATTTGATGACATGGAAGGCTCCGGGGGGCCCTTCTGGTCAACAGCCCGAAGCGCTGATGGGCCACAGGGACCTCCCGGCCTGCCGGGACTTAAGGGGGATCCTGGCGTGCCTGGGCTGCCGGGGGCGAAGGGAGAAGTTGGAGCAGATGGAGTCCCCGGGTTCCCCGGCCTCCCTGGCAGAGAGGGCATTGCTGGGCCCCAGGGGCCAAAGGGAGACAGAGGCAGCCGGGGAGAAAAGGGAGATCCAGGGAAGGACGGAGTCGGGCAGCCGGGCCTCCCTGGCCCCCCCGGACCCCCGGGACCTGTGGTCTACGTGTCGGAGCAGGACGGATCCGTCCTGAGCGTGCCGGGACCTGAGGGCCGGCCGGGTTTCGCAGGCTTTCCCGGACCTGCAGGACCCAAGGGCAACCTGGGCTCTAAGGGCGAACGAGGCTCCCCGGGACCCAAGGGTGAGAAGGGTGAACCGGGCAGCATCTTCAGCCCCGACGGCGGTGCCCTGGGCCCTGCCCAGAAAGGAGCCAAGGGAGAGCCGGGCTTCCGAGGACCCCCGGGTCCATACGGACGGCCGGGGTACAAGGGAGAGATTGGCTTTCCTGGACGGCCGGGTCGCCCCGGGATGAACGGATTGAAAGGAGAGAAAGGGGAGCCGGGAGATGCCAGCCTTGGATTTGGCATGAGGGGAATGCCCGGCCCCCCAGGACCTCCAGGGCCCCCAGGCCCTCCAGGGACTCCTGTTTACGACAGCAATGTGTTTGCTGAGTCCAGCCGCCCCGGGCCTCCAGGATTGCCAGGGAATCAGGGCCCTCCAGGACCCAAGGGCGCCAAAGGAGAAGTGGGCCCCCCCGGACCACCAGGGCAGTTTCCGTTTGACTTTCTTCAGTTGGAGGCTGAAATGAAGGGGGAGAAGGGAGACCGAGGTGATGCAGGACAGAAAGGCGAAAGGGGGGAGCCCGGGGGCGGCGGTTTCTTCGGCTCCAGCCTGCCCggcccccccggccccccaggccccccaggcccACGTGGCTACCCTGGGATTCCAGGTCCCAAGGGAGAGAGCATCCGGGGCCAGCCCGGCCCACCTGGACCTCAGGGACCCCCCGGCATCGGCTACGAGGGGCGCCAGGGCCCTCCCGGCCCCCCAGGCCCCCCAGGGCCCCCTTCATTTCCTGGCCCTCACAGGCAGACTATCAGCGTTCCCGGCCCTCCGGGCccccctgggccccctgggccccctggAACCATGGGCGCCTCCTCAGGGGTGAGGCTCTGGGCTACACGCCAGGCCATGCTGGGCCAGGTGCACGAGGTTCCCGAGGGCTGGCTCATCTTCGTGGCCGAGCAGGAGGAGCTCTACGTCCGCGTGCAGAACGGGTTCCGGAAGGTCCAGCTGGAGGCCCGGACACCACTCCCACGAGGGACGGACAATGAAGTGGCCGCCTTGCAGCCCCCCGTGGTGCAGCTGCACGACAGCAACCCCTACCCGCGGCGGGAGCACCCCCACCCCACCGCGCGGCCCTGGCGGGCAGATGACATCCTGGccagcccccctcgcctgcccgagccccagccctaccccggagccccgcaccaCAGCTCCTACGTGCACCTGCGGCCGGCGCGACCCACAAGCCCACCCGCCCACAGCCACCGCGACTTCCAGCCGGTGCTCCACCTGGTTGCGCTCAACAGCCCCCTGTCAGGCGGCATGCGGGGCATCCGCGGGGCCGACTTCCAGTGCTTCCAGCAGGCGCGGGCCGTGGGGCTGGCGGGCACCTTCCGCGCCTTCCTGTCCTCGCGCCTGCAGGACCTGTACAGCATCGTGCGCCGTGCCGACCGCGCAGCCGTGCCCATCGTCAACCTCAAGGACGAGCTGCTGTTTCCCAGCTGGGAGGCTCTGTTCTCAGGCTCTGAGGGTCCGCTGAAGCCCGGGGCACGCATCTTCTCCTTTGACGGCAAGGACGTCCTGAGGCACCCCACCTGGCCCCAGAAGAGCGTGTGGCATGGCTCGGACCCCAACGGGCGCAGGCTGACCGAGAGCTACTGTGAGACGTGGCGGACGGAGGCTCCCTCGGCCACGGGCCAGGCCTCCTCGCTGCTGGGGGGCAGGCTCCTGGGGCAGAGTGCCGCGAGCTGCCATCACGCCTACATCGTGCTCTGCATTGAGAACAGCTTCATGACTGCCTCCAAGTAGNN'"
      ]
     },
     "execution_count": 307,
     "metadata": {},
     "output_type": "execute_result"
    }
   ],
   "source": [
    "Mutation2_dna"
   ]
  },
  {
   "cell_type": "code",
   "execution_count": 238,
   "id": "759a9b59-fe5c-4e38-abe2-8017800b6700",
   "metadata": {},
   "outputs": [
    {
     "data": {
      "text/plain": [
       "{'CDS': ['-',\n",
       "  '21_CDS_36058816_36058888_-_2',\n",
       "  '21_startcodon_36058886_36058888_-_2',\n",
       "  '21_CDS_36057109_36057204_-_3',\n",
       "  '21_CDS_36053589_36053620_-_4'],\n",
       " '21_CDS_36058816_36058888_-_2': ['21', 36058816, 36058888],\n",
       " '21_startcodon_36058886_36058888_-_2': ['21', 36058886, 36058888],\n",
       " '21_CDS_36057109_36057204_-_3': ['21', 36057109, 36057204],\n",
       " '21_CDS_36053589_36053620_-_4': ['21', 36053589, 36053620],\n",
       " 'Rid': 'ENST00000443703'}"
      ]
     },
     "execution_count": 238,
     "metadata": {},
     "output_type": "execute_result"
    }
   ],
   "source": [
    "Gene_dict[gene]['ENST00000443703']"
   ]
  },
  {
   "cell_type": "code",
   "execution_count": 165,
   "id": "22d2273d-0a52-421d-a457-6e3896764e72",
   "metadata": {},
   "outputs": [
    {
     "name": "stdout",
     "output_type": "stream",
     "text": [
      "  Transcript: ENST00000559573\n",
      "    start: [49396244, 49395975, 49371302, 49331780, 49326962]\n",
      "    end: [49396442, 49396097, 49371399, 49331849, 49328675]\n",
      "  Transcript: ENST00000299338\n",
      "    start: [49620700, 49615121, 49611215, 49589776, 49588016, 49577629, 49576741, 49575011, 49568245, 49541680, 49508211, 49371302, 49367448, 49335419, 49331780, 49328391]\n",
      "    end: [49620931, 49615243, 49611268, 49590007, 49588083, 49577664, 49576845, 49575109, 49568346, 49541806, 49508348, 49371399, 49367608, 49335496, 49331849, 49328675]\n",
      "  Transcript: ENST00000560557\n",
      "    start: [49334218, 49331780, 49328393]\n",
      "    end: [49334302, 49331849, 49328675]\n",
      "  Transcript: ENST00000561064\n",
      "    start: [49620631, 49615121, 49611215, 49589776, 49588016, 49577629, 49576741, 49575011, 49541680, 49508211, 49422400]\n",
      "    end: [49620929, 49615243, 49611268, 49590007, 49588083, 49577664, 49576845, 49575109, 49541806, 49508348, 49422714]\n",
      "  Transcript: ENST00000559351\n",
      "    start: [49508211, 49489061]\n",
      "    end: [49508294, 49489391]\n",
      "  Transcript: ENST00000561319\n",
      "    start: [49615121, 49611215, 49589776, 49588016, 49577629, 49576741, 49574738]\n",
      "    end: [49615171, 49611268, 49590007, 49588083, 49577664, 49576845, 49575109]\n",
      "  Transcript: ENST00000558615\n",
      "    start: [49620631, 49615121, 49611215, 49589776, 49588016, 49574861]\n",
      "    end: [49620822, 49615243, 49611268, 49590007, 49588083, 49575109]\n",
      "  Transcript: ENST00000558579\n",
      "    start: [49589776, 49588016, 49577629, 49576136]\n",
      "    end: [49589943, 49588083, 49577664, 49576845]\n",
      "  Transcript: ENST00000558594\n",
      "    start: [49620700, 49620134, 49615121, 49611215, 49589776, 49588016, 49577172, 49576494]\n",
      "    end: [49620818, 49620190, 49615243, 49611268, 49590007, 49588083, 49577305, 49576845]\n",
      "  Transcript: ENST00000561116\n",
      "    start: [49615121, 49611215, 49588016, 49577629, 49576560]\n",
      "    end: [49615238, 49611268, 49588083, 49577664, 49576845]\n",
      "  Transcript: ENST00000559905\n",
      "    start: [49620631, 49620134, 49615121, 49611215, 49589776, 49588016, 49577629, 49576741]\n",
      "    end: [49620747, 49620190, 49615243, 49611268, 49590007, 49588083, 49577664, 49576845]\n",
      "  Transcript: ENST00000560246\n",
      "    start: [49620631, 49615121, 49611215, 49589776, 49588016, 49577629, 49577172, 49576761]\n",
      "    end: [49620809, 49615243, 49611268, 49590007, 49588083, 49577664, 49577305, 49576845]\n",
      "  Transcript: ENST00000558862\n",
      "    start: [49620700, 49615121, 49611215, 49606156, 49589776]\n",
      "    end: [49620897, 49615243, 49611268, 49606218, 49590007]\n",
      "  Transcript: ENST00000557892\n",
      "    start: [49620700, 49614792]\n",
      "    end: [49620816, 49615243]\n"
     ]
    }
   ],
   "source": [
    "transcripts = Tran_pos_dict['FAM227B']\n",
    "for transcript_id, info in transcripts.items():\n",
    "        print(f\"  Transcript: {transcript_id}\")\n",
    "        for cds_id, cds_info in info.items():\n",
    "            print(f\"    {cds_id}: {cds_info}\")"
   ]
  },
  {
   "cell_type": "code",
   "execution_count": 105,
   "id": "8f0a64d4-3781-4b5c-b2b5-eb2556bf07af",
   "metadata": {},
   "outputs": [
    {
     "data": {
      "text/plain": [
       "{'1': [49620816, 49620700],\n",
       " '2': [49615243, 49614792],\n",
       " '3': [49611268, 49611215],\n",
       " '4': [49606218, 49606156],\n",
       " '5': [49590007, 49589776],\n",
       " '6': [49577664, 49577629],\n",
       " '7': [49577305, 49577172],\n",
       " '8': [49576845, 49576761],\n",
       " '9': [49541806, 49541680],\n",
       " '10': [49508348, 49508211],\n",
       " '11': [49422714, 49422400],\n",
       " '12': [49371399, 49371302],\n",
       " '13': [49367608, 49367448],\n",
       " '14': [49335496, 49335419],\n",
       " '15': [49331849, 49331780],\n",
       " '16': [49328675, 49328391]}"
      ]
     },
     "execution_count": 105,
     "metadata": {},
     "output_type": "execute_result"
    }
   ],
   "source": [
    "Gene_pos[\"FAM227B\"]"
   ]
  },
  {
   "cell_type": "code",
   "execution_count": 185,
   "id": "e019823a-6aaf-449f-a4ff-8a1d2b31541e",
   "metadata": {},
   "outputs": [
    {
     "name": "stdout",
     "output_type": "stream",
     "text": [
      "  Transcript: ENST00000399215\n",
      "    CDS: ['-', '21_CDS_36058816_36058888_-_1', '21_startcodon_36058886_36058888_-_1', '21_CDS_36057109_36057204_-_2', '21_CDS_36053583_36053620_-_3', '21_CDS_36048308_36048396_-_4', '21_CDS_36045582_36046011_-_5', '21_CDS_36043782_36043956_-_6', '21_CDS_36041807_36041888_-_7', '21_CDS_36040575_36040655_-_8', '21_CDS_36038150_36038273_-_9', '21_CDS_36036120_36036251_-_10', '21_stopcodon_36036117_36036119_-_10']\n",
      "    21_CDS_36058816_36058888_-_1: ['21', 36058816, 36058888]\n",
      "    21_startcodon_36058886_36058888_-_1: ['21', 36058886, 36058888]\n",
      "    21_CDS_36057109_36057204_-_2: ['21', 36057109, 36057204]\n",
      "    21_CDS_36053583_36053620_-_3: ['21', 36053583, 36053620]\n",
      "    21_CDS_36048308_36048396_-_4: ['21', 36048308, 36048396]\n",
      "    21_CDS_36045582_36046011_-_5: ['21', 36045582, 36046011]\n",
      "    21_CDS_36043782_36043956_-_6: ['21', 36043782, 36043956]\n",
      "    21_CDS_36041807_36041888_-_7: ['21', 36041807, 36041888]\n",
      "    21_CDS_36040575_36040655_-_8: ['21', 36040575, 36040655]\n",
      "    21_CDS_36038150_36038273_-_9: ['21', 36038150, 36038273]\n",
      "    21_CDS_36036120_36036251_-_10: ['21', 36036120, 36036251]\n",
      "    21_stopcodon_36036117_36036119_-_10: ['21', 36036117, 36036119]\n",
      "  Transcript: ENST00000399212\n",
      "    CDS: ['-', '21_CDS_36057384_36057384_-_3', '21_startcodon_36057384_36057384_-_3', '21_startcodon_36057203_36057204_-_4', '21_CDS_36057109_36057204_-_4', '21_CDS_36053583_36053620_-_5', '21_CDS_36048308_36048396_-_6', '21_CDS_36045582_36046011_-_7', '21_CDS_36043782_36043956_-_8', '21_CDS_36041807_36041888_-_9', '21_CDS_36040575_36040655_-_10', '21_CDS_36038150_36038273_-_11', '21_CDS_36036120_36036251_-_12', '21_stopcodon_36036117_36036119_-_12']\n",
      "    21_CDS_36057384_36057384_-_3: ['21', 36057384, 36057384]\n",
      "    21_startcodon_36057384_36057384_-_3: ['21', 36057384, 36057384]\n",
      "    21_startcodon_36057203_36057204_-_4: ['21', 36057203, 36057204]\n",
      "    21_CDS_36057109_36057204_-_4: ['21', 36057109, 36057204]\n",
      "    21_CDS_36053583_36053620_-_5: ['21', 36053583, 36053620]\n",
      "    21_CDS_36048308_36048396_-_6: ['21', 36048308, 36048396]\n",
      "    21_CDS_36045582_36046011_-_7: ['21', 36045582, 36046011]\n",
      "    21_CDS_36043782_36043956_-_8: ['21', 36043782, 36043956]\n",
      "    21_CDS_36041807_36041888_-_9: ['21', 36041807, 36041888]\n",
      "    21_CDS_36040575_36040655_-_10: ['21', 36040575, 36040655]\n",
      "    21_CDS_36038150_36038273_-_11: ['21', 36038150, 36038273]\n",
      "    21_CDS_36036120_36036251_-_12: ['21', 36036120, 36036251]\n",
      "    21_stopcodon_36036117_36036119_-_12: ['21', 36036117, 36036119]\n",
      "  Transcript: ENST00000332131\n",
      "    CDS: ['-', '21_CDS_36058816_36058888_-_2', '21_startcodon_36058886_36058888_-_2', '21_CDS_36057109_36057204_-_3', '21_CDS_36053583_36053620_-_4', '21_CDS_36048308_36048396_-_5', '21_CDS_36045582_36046011_-_6', '21_CDS_36043782_36043956_-_7', '21_CDS_36041807_36041888_-_8', '21_CDS_36040575_36040655_-_9', '21_CDS_36038150_36038273_-_10', '21_CDS_36036120_36036251_-_11', '21_stopcodon_36036117_36036119_-_11']\n",
      "    21_CDS_36058816_36058888_-_2: ['21', 36058816, 36058888]\n",
      "    21_startcodon_36058886_36058888_-_2: ['21', 36058886, 36058888]\n",
      "    21_CDS_36057109_36057204_-_3: ['21', 36057109, 36057204]\n",
      "    21_CDS_36053583_36053620_-_4: ['21', 36053583, 36053620]\n",
      "    21_CDS_36048308_36048396_-_5: ['21', 36048308, 36048396]\n",
      "    21_CDS_36045582_36046011_-_6: ['21', 36045582, 36046011]\n",
      "    21_CDS_36043782_36043956_-_7: ['21', 36043782, 36043956]\n",
      "    21_CDS_36041807_36041888_-_8: ['21', 36041807, 36041888]\n",
      "    21_CDS_36040575_36040655_-_9: ['21', 36040575, 36040655]\n",
      "    21_CDS_36038150_36038273_-_10: ['21', 36038150, 36038273]\n",
      "    21_CDS_36036120_36036251_-_11: ['21', 36036120, 36036251]\n",
      "    21_stopcodon_36036117_36036119_-_11: ['21', 36036117, 36036119]\n",
      "  Transcript: ENST00000399205\n",
      "    CDS: ['-', '21_CDS_36057384_36057384_-_3', '21_startcodon_36057384_36057384_-_3', '21_startcodon_36057203_36057204_-_4', '21_CDS_36057109_36057204_-_4', '21_CDS_36053583_36053620_-_5', '21_CDS_36048308_36048396_-_6', '21_CDS_36045582_36046011_-_7', '21_CDS_36043762_36043956_-_8', '21_stopcodon_36043759_36043761_-_8']\n",
      "    21_CDS_36057384_36057384_-_3: ['21', 36057384, 36057384]\n",
      "    21_startcodon_36057384_36057384_-_3: ['21', 36057384, 36057384]\n",
      "    21_startcodon_36057203_36057204_-_4: ['21', 36057203, 36057204]\n",
      "    21_CDS_36057109_36057204_-_4: ['21', 36057109, 36057204]\n",
      "    21_CDS_36053583_36053620_-_5: ['21', 36053583, 36053620]\n",
      "    21_CDS_36048308_36048396_-_6: ['21', 36048308, 36048396]\n",
      "    21_CDS_36045582_36046011_-_7: ['21', 36045582, 36046011]\n",
      "    21_CDS_36043762_36043956_-_8: ['21', 36043762, 36043956]\n",
      "    21_stopcodon_36043759_36043761_-_8: ['21', 36043759, 36043761]\n",
      "  Transcript: ENST00000399208\n",
      "    CDS: ['-', '21_CDS_36058816_36058888_-_2', '21_startcodon_36058886_36058888_-_2', '21_CDS_36057109_36057204_-_3', '21_CDS_36053583_36053620_-_4', '21_CDS_36048308_36048396_-_5', '21_CDS_36045582_36046011_-_6', '21_CDS_36043762_36043956_-_7', '21_stopcodon_36043759_36043761_-_7']\n",
      "    21_CDS_36058816_36058888_-_2: ['21', 36058816, 36058888]\n",
      "    21_startcodon_36058886_36058888_-_2: ['21', 36058886, 36058888]\n",
      "    21_CDS_36057109_36057204_-_3: ['21', 36057109, 36057204]\n",
      "    21_CDS_36053583_36053620_-_4: ['21', 36053583, 36053620]\n",
      "    21_CDS_36048308_36048396_-_5: ['21', 36048308, 36048396]\n",
      "    21_CDS_36045582_36046011_-_6: ['21', 36045582, 36046011]\n",
      "    21_CDS_36043762_36043956_-_7: ['21', 36043762, 36043956]\n",
      "    21_stopcodon_36043759_36043761_-_7: ['21', 36043759, 36043761]\n",
      "  Transcript: ENST00000399201\n",
      "    CDS: ['-', '21_CDS_36057384_36057384_-_3', '21_startcodon_36057384_36057384_-_3', '21_startcodon_36057203_36057204_-_4', '21_CDS_36057109_36057204_-_4', '21_CDS_36053583_36053620_-_5', '21_CDS_36048308_36048396_-_6', '21_CDS_36045582_36046011_-_7', '21_CDS_36043762_36043956_-_8', '21_stopcodon_36043759_36043761_-_8']\n",
      "    21_CDS_36057384_36057384_-_3: ['21', 36057384, 36057384]\n",
      "    21_startcodon_36057384_36057384_-_3: ['21', 36057384, 36057384]\n",
      "    21_startcodon_36057203_36057204_-_4: ['21', 36057203, 36057204]\n",
      "    21_CDS_36057109_36057204_-_4: ['21', 36057109, 36057204]\n",
      "    21_CDS_36053583_36053620_-_5: ['21', 36053583, 36053620]\n",
      "    21_CDS_36048308_36048396_-_6: ['21', 36048308, 36048396]\n",
      "    21_CDS_36045582_36046011_-_7: ['21', 36045582, 36046011]\n",
      "    21_CDS_36043762_36043956_-_8: ['21', 36043762, 36043956]\n",
      "    21_stopcodon_36043759_36043761_-_8: ['21', 36043759, 36043761]\n",
      "  Transcript: ENST00000399207\n",
      "    CDS: ['-', '21_CDS_36058816_36058888_-_2', '21_startcodon_36058886_36058888_-_2', '21_CDS_36057109_36057204_-_3', '21_CDS_36053583_36053620_-_4', '21_CDS_36048308_36048396_-_5', '21_CDS_36045582_36046011_-_6', '21_CDS_36043762_36043956_-_7', '21_stopcodon_36043759_36043761_-_7']\n",
      "    21_CDS_36058816_36058888_-_2: ['21', 36058816, 36058888]\n",
      "    21_startcodon_36058886_36058888_-_2: ['21', 36058886, 36058888]\n",
      "    21_CDS_36057109_36057204_-_3: ['21', 36057109, 36057204]\n",
      "    21_CDS_36053583_36053620_-_4: ['21', 36053583, 36053620]\n",
      "    21_CDS_36048308_36048396_-_5: ['21', 36048308, 36048396]\n",
      "    21_CDS_36045582_36046011_-_6: ['21', 36045582, 36046011]\n",
      "    21_CDS_36043762_36043956_-_7: ['21', 36043762, 36043956]\n",
      "    21_stopcodon_36043759_36043761_-_7: ['21', 36043759, 36043761]\n",
      "  Transcript: ENST00000424303\n",
      "    CDS: ['-', '21_CDS_36058816_36058888_-_2', '21_startcodon_36058886_36058888_-_2', '21_CDS_36057109_36057204_-_3', '21_CDS_36053583_36053620_-_4', '21_CDS_36048308_36048396_-_5', '21_CDS_36045614_36046011_-_6']\n",
      "    21_CDS_36058816_36058888_-_2: ['21', 36058816, 36058888]\n",
      "    21_startcodon_36058886_36058888_-_2: ['21', 36058886, 36058888]\n",
      "    21_CDS_36057109_36057204_-_3: ['21', 36057109, 36057204]\n",
      "    21_CDS_36053583_36053620_-_4: ['21', 36053583, 36053620]\n",
      "    21_CDS_36048308_36048396_-_5: ['21', 36048308, 36048396]\n",
      "    21_CDS_36045614_36046011_-_6: ['21', 36045614, 36046011]\n",
      "  Transcript: ENST00000429161\n",
      "    CDS: ['-', '21_CDS_36058816_36058888_-_2', '21_startcodon_36058886_36058888_-_2', '21_CDS_36057109_36057204_-_3', '21_CDS_36053583_36053620_-_4', '21_CDS_36048308_36048396_-_5', '21_CDS_36045631_36046011_-_6']\n",
      "    21_CDS_36058816_36058888_-_2: ['21', 36058816, 36058888]\n",
      "    21_startcodon_36058886_36058888_-_2: ['21', 36058886, 36058888]\n",
      "    21_CDS_36057109_36057204_-_3: ['21', 36057109, 36057204]\n",
      "    21_CDS_36053583_36053620_-_4: ['21', 36053583, 36053620]\n",
      "    21_CDS_36048308_36048396_-_5: ['21', 36048308, 36048396]\n",
      "    21_CDS_36045631_36046011_-_6: ['21', 36045631, 36046011]\n",
      "  Transcript: ENST00000446166\n",
      "    CDS: ['-', '21_CDS_36057384_36057384_-_3', '21_startcodon_36057384_36057384_-_3', '21_startcodon_36057203_36057204_-_4', '21_CDS_36057109_36057204_-_4', '21_CDS_36053583_36053620_-_5', '21_CDS_36048308_36048396_-_6', '21_CDS_36045864_36046011_-_7']\n",
      "    21_CDS_36057384_36057384_-_3: ['21', 36057384, 36057384]\n",
      "    21_startcodon_36057384_36057384_-_3: ['21', 36057384, 36057384]\n",
      "    21_startcodon_36057203_36057204_-_4: ['21', 36057203, 36057204]\n",
      "    21_CDS_36057109_36057204_-_4: ['21', 36057109, 36057204]\n",
      "    21_CDS_36053583_36053620_-_5: ['21', 36053583, 36053620]\n",
      "    21_CDS_36048308_36048396_-_6: ['21', 36048308, 36048396]\n",
      "    21_CDS_36045864_36046011_-_7: ['21', 36045864, 36046011]\n",
      "  Transcript: ENST00000442559\n",
      "    CDS: ['-', '21_CDS_36057384_36057384_-_3', '21_startcodon_36057384_36057384_-_3', '21_startcodon_36057203_36057204_-_4', '21_CDS_36057109_36057204_-_4', '21_CDS_36053583_36053620_-_5', '21_CDS_36048322_36048396_-_6']\n",
      "    21_CDS_36057384_36057384_-_3: ['21', 36057384, 36057384]\n",
      "    21_startcodon_36057384_36057384_-_3: ['21', 36057384, 36057384]\n",
      "    21_startcodon_36057203_36057204_-_4: ['21', 36057203, 36057204]\n",
      "    21_CDS_36057109_36057204_-_4: ['21', 36057109, 36057204]\n",
      "    21_CDS_36053583_36053620_-_5: ['21', 36053583, 36053620]\n",
      "    21_CDS_36048322_36048396_-_6: ['21', 36048322, 36048396]\n",
      "  Transcript: ENST00000443703\n",
      "    CDS: ['-', '21_CDS_36058816_36058888_-_2', '21_startcodon_36058886_36058888_-_2', '21_CDS_36057109_36057204_-_3', '21_CDS_36053589_36053620_-_4']\n",
      "    21_CDS_36058816_36058888_-_2: ['21', 36058816, 36058888]\n",
      "    21_startcodon_36058886_36058888_-_2: ['21', 36058886, 36058888]\n",
      "    21_CDS_36057109_36057204_-_3: ['21', 36057109, 36057204]\n",
      "    21_CDS_36053589_36053620_-_4: ['21', 36053589, 36053620]\n"
     ]
    }
   ],
   "source": [
    "transcripts = Gene_dict_fil['SETD4']\n",
    "for transcript_id, info in transcripts.items():\n",
    "        print(f\"  Transcript: {transcript_id}\")\n",
    "        print(f\"    CDS: {info['CDS']}\")\n",
    "        for cds_id, cds_info in info.items():\n",
    "            if cds_id != 'CDS':\n",
    "                print(f\"    {cds_id}: {cds_info}\")"
   ]
  },
  {
   "cell_type": "code",
   "execution_count": null,
   "id": "0c71c414-ef5c-47cb-b395-bbed831a0929",
   "metadata": {},
   "outputs": [],
   "source": []
  }
 ],
 "metadata": {
  "kernelspec": {
   "display_name": "celloracle",
   "language": "python",
   "name": "celloracle"
  },
  "language_info": {
   "codemirror_mode": {
    "name": "ipython",
    "version": 3
   },
   "file_extension": ".py",
   "mimetype": "text/x-python",
   "name": "python",
   "nbconvert_exporter": "python",
   "pygments_lexer": "ipython3",
   "version": "3.10.16"
  }
 },
 "nbformat": 4,
 "nbformat_minor": 5
}
